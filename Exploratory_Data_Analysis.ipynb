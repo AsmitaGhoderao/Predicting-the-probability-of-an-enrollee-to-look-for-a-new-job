{
 "cells": [
  {
   "cell_type": "code",
   "execution_count": 1,
   "metadata": {},
   "outputs": [],
   "source": [
    "import numpy as np\n",
    "import pandas as pd\n",
    "import matplotlib.pyplot as plt\n",
    "import seaborn as sns\n",
    "import os\n",
    "\n",
    "os.chdir('E:/Data Science/Competitions/data/JantaHack_HR_Analytics')\n",
    "\n",
    "import warnings\n",
    "from sklearn.exceptions import DataConversionWarning\n",
    "warnings.filterwarnings(action='ignore',category= DataConversionWarning)\n",
    "warnings.simplefilter(action='ignore',category=FutureWarning)"
   ]
  },
  {
   "cell_type": "code",
   "execution_count": 2,
   "metadata": {},
   "outputs": [],
   "source": [
    "df_train = pd.read_csv('train.csv')\n",
    "df_test = pd.read_csv('test.csv')"
   ]
  },
  {
   "cell_type": "code",
   "execution_count": 3,
   "metadata": {},
   "outputs": [
    {
     "name": "stdout",
     "output_type": "stream",
     "text": [
      "(18359, 14)\n",
      "(15021, 13)\n"
     ]
    }
   ],
   "source": [
    "print(df_train.shape)\n",
    "print(df_test.shape)"
   ]
  },
  {
   "cell_type": "code",
   "execution_count": 4,
   "metadata": {},
   "outputs": [
    {
     "data": {
      "text/html": [
       "<div>\n",
       "<style scoped>\n",
       "    .dataframe tbody tr th:only-of-type {\n",
       "        vertical-align: middle;\n",
       "    }\n",
       "\n",
       "    .dataframe tbody tr th {\n",
       "        vertical-align: top;\n",
       "    }\n",
       "\n",
       "    .dataframe thead th {\n",
       "        text-align: right;\n",
       "    }\n",
       "</style>\n",
       "<table border=\"1\" class=\"dataframe\">\n",
       "  <thead>\n",
       "    <tr style=\"text-align: right;\">\n",
       "      <th></th>\n",
       "      <th>enrollee_id</th>\n",
       "      <th>city</th>\n",
       "      <th>city_development_index</th>\n",
       "      <th>gender</th>\n",
       "      <th>relevent_experience</th>\n",
       "      <th>enrolled_university</th>\n",
       "      <th>education_level</th>\n",
       "      <th>major_discipline</th>\n",
       "      <th>experience</th>\n",
       "      <th>company_size</th>\n",
       "      <th>company_type</th>\n",
       "      <th>last_new_job</th>\n",
       "      <th>training_hours</th>\n",
       "      <th>target</th>\n",
       "    </tr>\n",
       "  </thead>\n",
       "  <tbody>\n",
       "    <tr>\n",
       "      <td>0</td>\n",
       "      <td>23798</td>\n",
       "      <td>city_149</td>\n",
       "      <td>0.689</td>\n",
       "      <td>Male</td>\n",
       "      <td>Has relevent experience</td>\n",
       "      <td>no_enrollment</td>\n",
       "      <td>Graduate</td>\n",
       "      <td>STEM</td>\n",
       "      <td>3</td>\n",
       "      <td>100-500</td>\n",
       "      <td>Pvt Ltd</td>\n",
       "      <td>1</td>\n",
       "      <td>106</td>\n",
       "      <td>0</td>\n",
       "    </tr>\n",
       "    <tr>\n",
       "      <td>1</td>\n",
       "      <td>29166</td>\n",
       "      <td>city_83</td>\n",
       "      <td>0.923</td>\n",
       "      <td>Male</td>\n",
       "      <td>Has relevent experience</td>\n",
       "      <td>no_enrollment</td>\n",
       "      <td>Graduate</td>\n",
       "      <td>STEM</td>\n",
       "      <td>14</td>\n",
       "      <td>&lt;10</td>\n",
       "      <td>Funded Startup</td>\n",
       "      <td>1</td>\n",
       "      <td>69</td>\n",
       "      <td>0</td>\n",
       "    </tr>\n",
       "    <tr>\n",
       "      <td>2</td>\n",
       "      <td>46</td>\n",
       "      <td>city_16</td>\n",
       "      <td>0.910</td>\n",
       "      <td>NaN</td>\n",
       "      <td>Has relevent experience</td>\n",
       "      <td>no_enrollment</td>\n",
       "      <td>Graduate</td>\n",
       "      <td>STEM</td>\n",
       "      <td>6</td>\n",
       "      <td>50-99</td>\n",
       "      <td>Public Sector</td>\n",
       "      <td>2</td>\n",
       "      <td>4</td>\n",
       "      <td>0</td>\n",
       "    </tr>\n",
       "    <tr>\n",
       "      <td>3</td>\n",
       "      <td>18527</td>\n",
       "      <td>city_64</td>\n",
       "      <td>0.666</td>\n",
       "      <td>Male</td>\n",
       "      <td>Has relevent experience</td>\n",
       "      <td>no_enrollment</td>\n",
       "      <td>Graduate</td>\n",
       "      <td>STEM</td>\n",
       "      <td>14</td>\n",
       "      <td>50-99</td>\n",
       "      <td>Pvt Ltd</td>\n",
       "      <td>1</td>\n",
       "      <td>26</td>\n",
       "      <td>0</td>\n",
       "    </tr>\n",
       "    <tr>\n",
       "      <td>4</td>\n",
       "      <td>21751</td>\n",
       "      <td>city_100</td>\n",
       "      <td>0.887</td>\n",
       "      <td>NaN</td>\n",
       "      <td>No relevent experience</td>\n",
       "      <td>no_enrollment</td>\n",
       "      <td>Masters</td>\n",
       "      <td>STEM</td>\n",
       "      <td>8</td>\n",
       "      <td>NaN</td>\n",
       "      <td>NaN</td>\n",
       "      <td>2</td>\n",
       "      <td>88</td>\n",
       "      <td>1</td>\n",
       "    </tr>\n",
       "  </tbody>\n",
       "</table>\n",
       "</div>"
      ],
      "text/plain": [
       "   enrollee_id      city  city_development_index gender  \\\n",
       "0        23798  city_149                   0.689   Male   \n",
       "1        29166   city_83                   0.923   Male   \n",
       "2           46   city_16                   0.910    NaN   \n",
       "3        18527   city_64                   0.666   Male   \n",
       "4        21751  city_100                   0.887    NaN   \n",
       "\n",
       "       relevent_experience enrolled_university education_level  \\\n",
       "0  Has relevent experience       no_enrollment        Graduate   \n",
       "1  Has relevent experience       no_enrollment        Graduate   \n",
       "2  Has relevent experience       no_enrollment        Graduate   \n",
       "3  Has relevent experience       no_enrollment        Graduate   \n",
       "4   No relevent experience       no_enrollment         Masters   \n",
       "\n",
       "  major_discipline experience company_size    company_type last_new_job  \\\n",
       "0             STEM          3      100-500         Pvt Ltd            1   \n",
       "1             STEM         14          <10  Funded Startup            1   \n",
       "2             STEM          6        50-99   Public Sector            2   \n",
       "3             STEM         14        50-99         Pvt Ltd            1   \n",
       "4             STEM          8          NaN             NaN            2   \n",
       "\n",
       "   training_hours  target  \n",
       "0             106       0  \n",
       "1              69       0  \n",
       "2               4       0  \n",
       "3              26       0  \n",
       "4              88       1  "
      ]
     },
     "execution_count": 4,
     "metadata": {},
     "output_type": "execute_result"
    }
   ],
   "source": [
    "df_train.head()"
   ]
  },
  {
   "cell_type": "markdown",
   "metadata": {},
   "source": [
    "## Analysing Train Data"
   ]
  },
  {
   "cell_type": "code",
   "execution_count": 5,
   "metadata": {
    "scrolled": true
   },
   "outputs": [
    {
     "data": {
      "text/html": [
       "<div>\n",
       "<style scoped>\n",
       "    .dataframe tbody tr th:only-of-type {\n",
       "        vertical-align: middle;\n",
       "    }\n",
       "\n",
       "    .dataframe tbody tr th {\n",
       "        vertical-align: top;\n",
       "    }\n",
       "\n",
       "    .dataframe thead th {\n",
       "        text-align: right;\n",
       "    }\n",
       "</style>\n",
       "<table border=\"1\" class=\"dataframe\">\n",
       "  <thead>\n",
       "    <tr style=\"text-align: right;\">\n",
       "      <th></th>\n",
       "      <th>enrollee_id</th>\n",
       "      <th>city_development_index</th>\n",
       "      <th>training_hours</th>\n",
       "      <th>target</th>\n",
       "    </tr>\n",
       "  </thead>\n",
       "  <tbody>\n",
       "    <tr>\n",
       "      <td>count</td>\n",
       "      <td>18359.000000</td>\n",
       "      <td>18359.000000</td>\n",
       "      <td>18359.000000</td>\n",
       "      <td>18359.000000</td>\n",
       "    </tr>\n",
       "    <tr>\n",
       "      <td>mean</td>\n",
       "      <td>16729.360096</td>\n",
       "      <td>0.847140</td>\n",
       "      <td>65.899014</td>\n",
       "      <td>0.132088</td>\n",
       "    </tr>\n",
       "    <tr>\n",
       "      <td>std</td>\n",
       "      <td>9643.749725</td>\n",
       "      <td>0.110189</td>\n",
       "      <td>60.885300</td>\n",
       "      <td>0.338595</td>\n",
       "    </tr>\n",
       "    <tr>\n",
       "      <td>min</td>\n",
       "      <td>1.000000</td>\n",
       "      <td>0.448000</td>\n",
       "      <td>1.000000</td>\n",
       "      <td>0.000000</td>\n",
       "    </tr>\n",
       "    <tr>\n",
       "      <td>25%</td>\n",
       "      <td>8378.500000</td>\n",
       "      <td>0.796000</td>\n",
       "      <td>23.000000</td>\n",
       "      <td>0.000000</td>\n",
       "    </tr>\n",
       "    <tr>\n",
       "      <td>50%</td>\n",
       "      <td>16706.000000</td>\n",
       "      <td>0.910000</td>\n",
       "      <td>47.000000</td>\n",
       "      <td>0.000000</td>\n",
       "    </tr>\n",
       "    <tr>\n",
       "      <td>75%</td>\n",
       "      <td>25148.500000</td>\n",
       "      <td>0.920000</td>\n",
       "      <td>89.000000</td>\n",
       "      <td>0.000000</td>\n",
       "    </tr>\n",
       "    <tr>\n",
       "      <td>max</td>\n",
       "      <td>33380.000000</td>\n",
       "      <td>0.949000</td>\n",
       "      <td>336.000000</td>\n",
       "      <td>1.000000</td>\n",
       "    </tr>\n",
       "  </tbody>\n",
       "</table>\n",
       "</div>"
      ],
      "text/plain": [
       "        enrollee_id  city_development_index  training_hours        target\n",
       "count  18359.000000            18359.000000    18359.000000  18359.000000\n",
       "mean   16729.360096                0.847140       65.899014      0.132088\n",
       "std     9643.749725                0.110189       60.885300      0.338595\n",
       "min        1.000000                0.448000        1.000000      0.000000\n",
       "25%     8378.500000                0.796000       23.000000      0.000000\n",
       "50%    16706.000000                0.910000       47.000000      0.000000\n",
       "75%    25148.500000                0.920000       89.000000      0.000000\n",
       "max    33380.000000                0.949000      336.000000      1.000000"
      ]
     },
     "execution_count": 5,
     "metadata": {},
     "output_type": "execute_result"
    }
   ],
   "source": [
    "df_train.describe()"
   ]
  },
  {
   "cell_type": "code",
   "execution_count": 6,
   "metadata": {},
   "outputs": [
    {
     "data": {
      "text/html": [
       "<div>\n",
       "<style scoped>\n",
       "    .dataframe tbody tr th:only-of-type {\n",
       "        vertical-align: middle;\n",
       "    }\n",
       "\n",
       "    .dataframe tbody tr th {\n",
       "        vertical-align: top;\n",
       "    }\n",
       "\n",
       "    .dataframe thead th {\n",
       "        text-align: right;\n",
       "    }\n",
       "</style>\n",
       "<table border=\"1\" class=\"dataframe\">\n",
       "  <thead>\n",
       "    <tr style=\"text-align: right;\">\n",
       "      <th></th>\n",
       "      <th>city</th>\n",
       "      <th>gender</th>\n",
       "      <th>relevent_experience</th>\n",
       "      <th>enrolled_university</th>\n",
       "      <th>education_level</th>\n",
       "      <th>major_discipline</th>\n",
       "      <th>experience</th>\n",
       "      <th>company_size</th>\n",
       "      <th>company_type</th>\n",
       "      <th>last_new_job</th>\n",
       "    </tr>\n",
       "  </thead>\n",
       "  <tbody>\n",
       "    <tr>\n",
       "      <td>count</td>\n",
       "      <td>18359</td>\n",
       "      <td>14261</td>\n",
       "      <td>18359</td>\n",
       "      <td>18017</td>\n",
       "      <td>17902</td>\n",
       "      <td>15521</td>\n",
       "      <td>18300</td>\n",
       "      <td>13580</td>\n",
       "      <td>13320</td>\n",
       "      <td>17992</td>\n",
       "    </tr>\n",
       "    <tr>\n",
       "      <td>unique</td>\n",
       "      <td>123</td>\n",
       "      <td>3</td>\n",
       "      <td>2</td>\n",
       "      <td>3</td>\n",
       "      <td>5</td>\n",
       "      <td>6</td>\n",
       "      <td>22</td>\n",
       "      <td>8</td>\n",
       "      <td>6</td>\n",
       "      <td>6</td>\n",
       "    </tr>\n",
       "    <tr>\n",
       "      <td>top</td>\n",
       "      <td>city_103</td>\n",
       "      <td>Male</td>\n",
       "      <td>Has relevent experience</td>\n",
       "      <td>no_enrollment</td>\n",
       "      <td>Graduate</td>\n",
       "      <td>STEM</td>\n",
       "      <td>&gt;20</td>\n",
       "      <td>50-99</td>\n",
       "      <td>Pvt Ltd</td>\n",
       "      <td>1</td>\n",
       "    </tr>\n",
       "    <tr>\n",
       "      <td>freq</td>\n",
       "      <td>4358</td>\n",
       "      <td>12884</td>\n",
       "      <td>13596</td>\n",
       "      <td>13659</td>\n",
       "      <td>10769</td>\n",
       "      <td>13738</td>\n",
       "      <td>3437</td>\n",
       "      <td>3120</td>\n",
       "      <td>10051</td>\n",
       "      <td>7567</td>\n",
       "    </tr>\n",
       "  </tbody>\n",
       "</table>\n",
       "</div>"
      ],
      "text/plain": [
       "            city gender      relevent_experience enrolled_university  \\\n",
       "count      18359  14261                    18359               18017   \n",
       "unique       123      3                        2                   3   \n",
       "top     city_103   Male  Has relevent experience       no_enrollment   \n",
       "freq        4358  12884                    13596               13659   \n",
       "\n",
       "       education_level major_discipline experience company_size company_type  \\\n",
       "count            17902            15521      18300        13580        13320   \n",
       "unique               5                6         22            8            6   \n",
       "top           Graduate             STEM        >20        50-99      Pvt Ltd   \n",
       "freq             10769            13738       3437         3120        10051   \n",
       "\n",
       "       last_new_job  \n",
       "count         17992  \n",
       "unique            6  \n",
       "top               1  \n",
       "freq           7567  "
      ]
     },
     "execution_count": 6,
     "metadata": {},
     "output_type": "execute_result"
    }
   ],
   "source": [
    "df_train.describe(include='object')"
   ]
  },
  {
   "cell_type": "code",
   "execution_count": 7,
   "metadata": {},
   "outputs": [
    {
     "name": "stdout",
     "output_type": "stream",
     "text": [
      "<class 'pandas.core.frame.DataFrame'>\n",
      "RangeIndex: 18359 entries, 0 to 18358\n",
      "Data columns (total 14 columns):\n",
      "enrollee_id               18359 non-null int64\n",
      "city                      18359 non-null object\n",
      "city_development_index    18359 non-null float64\n",
      "gender                    14261 non-null object\n",
      "relevent_experience       18359 non-null object\n",
      "enrolled_university       18017 non-null object\n",
      "education_level           17902 non-null object\n",
      "major_discipline          15521 non-null object\n",
      "experience                18300 non-null object\n",
      "company_size              13580 non-null object\n",
      "company_type              13320 non-null object\n",
      "last_new_job              17992 non-null object\n",
      "training_hours            18359 non-null int64\n",
      "target                    18359 non-null int64\n",
      "dtypes: float64(1), int64(3), object(10)\n",
      "memory usage: 2.0+ MB\n"
     ]
    }
   ],
   "source": [
    "df_train.info()"
   ]
  },
  {
   "cell_type": "code",
   "execution_count": 8,
   "metadata": {},
   "outputs": [],
   "source": [
    "cat_col = df_train.select_dtypes(include='object').columns\n",
    "num_col = df_train.select_dtypes(exclude='object').columns"
   ]
  },
  {
   "cell_type": "code",
   "execution_count": 9,
   "metadata": {},
   "outputs": [
    {
     "name": "stdout",
     "output_type": "stream",
     "text": [
      "{'gender': ['Male', nan, 'Female', 'Other'], 'relevent_experience': ['Has relevent experience', 'No relevent experience'], 'enrolled_university': ['no_enrollment', 'Full time course', 'Part time course', nan], 'education_level': ['Graduate', 'Masters', 'High School', 'Phd', nan, 'Primary School'], 'major_discipline': ['STEM', 'Other', 'No Major', nan, 'Business Degree', 'Arts', 'Humanities'], 'experience': ['3', '14', '6', '8', '>20', '4', '9', '15', '10', '1', '5', '16', '11', '12', '7', '2', '13', '<1', '19', '18', '17', nan, '20'], 'company_size': ['100-500', '<10', '50-99', nan, '5000-9999', '10000+', '1000-4999', '500-999', '10/49'], 'company_type': ['Pvt Ltd', 'Funded Startup', 'Public Sector', nan, 'Early Stage Startup', 'NGO', 'Other'], 'last_new_job': ['1', '2', '3', '>4', 'never', '4', nan]}\n"
     ]
    }
   ],
   "source": [
    "unique_dict = {i:list(df_train[i].unique()) for i in cat_col[1:]}\n",
    "print(unique_dict)"
   ]
  },
  {
   "cell_type": "code",
   "execution_count": 10,
   "metadata": {},
   "outputs": [
    {
     "data": {
      "text/plain": [
       "enrollee_id                  0\n",
       "city                         0\n",
       "city_development_index       0\n",
       "gender                    4098\n",
       "relevent_experience          0\n",
       "enrolled_university        342\n",
       "education_level            457\n",
       "major_discipline          2838\n",
       "experience                  59\n",
       "company_size              4779\n",
       "company_type              5039\n",
       "last_new_job               367\n",
       "training_hours               0\n",
       "target                       0\n",
       "dtype: int64"
      ]
     },
     "execution_count": 10,
     "metadata": {},
     "output_type": "execute_result"
    }
   ],
   "source": [
    "df_train.isnull().sum()"
   ]
  },
  {
   "cell_type": "markdown",
   "metadata": {},
   "source": [
    "## Analysing Test Data"
   ]
  },
  {
   "cell_type": "code",
   "execution_count": 11,
   "metadata": {},
   "outputs": [
    {
     "data": {
      "text/html": [
       "<div>\n",
       "<style scoped>\n",
       "    .dataframe tbody tr th:only-of-type {\n",
       "        vertical-align: middle;\n",
       "    }\n",
       "\n",
       "    .dataframe tbody tr th {\n",
       "        vertical-align: top;\n",
       "    }\n",
       "\n",
       "    .dataframe thead th {\n",
       "        text-align: right;\n",
       "    }\n",
       "</style>\n",
       "<table border=\"1\" class=\"dataframe\">\n",
       "  <thead>\n",
       "    <tr style=\"text-align: right;\">\n",
       "      <th></th>\n",
       "      <th>enrollee_id</th>\n",
       "      <th>city_development_index</th>\n",
       "      <th>training_hours</th>\n",
       "    </tr>\n",
       "  </thead>\n",
       "  <tbody>\n",
       "    <tr>\n",
       "      <td>count</td>\n",
       "      <td>15021.000000</td>\n",
       "      <td>15021.000000</td>\n",
       "      <td>15021.000000</td>\n",
       "    </tr>\n",
       "    <tr>\n",
       "      <td>mean</td>\n",
       "      <td>16643.004327</td>\n",
       "      <td>0.846683</td>\n",
       "      <td>65.158179</td>\n",
       "    </tr>\n",
       "    <tr>\n",
       "      <td>std</td>\n",
       "      <td>9626.895233</td>\n",
       "      <td>0.109709</td>\n",
       "      <td>59.719211</td>\n",
       "    </tr>\n",
       "    <tr>\n",
       "      <td>min</td>\n",
       "      <td>6.000000</td>\n",
       "      <td>0.448000</td>\n",
       "      <td>1.000000</td>\n",
       "    </tr>\n",
       "    <tr>\n",
       "      <td>25%</td>\n",
       "      <td>8316.000000</td>\n",
       "      <td>0.794000</td>\n",
       "      <td>23.000000</td>\n",
       "    </tr>\n",
       "    <tr>\n",
       "      <td>50%</td>\n",
       "      <td>16664.000000</td>\n",
       "      <td>0.910000</td>\n",
       "      <td>47.000000</td>\n",
       "    </tr>\n",
       "    <tr>\n",
       "      <td>75%</td>\n",
       "      <td>24908.000000</td>\n",
       "      <td>0.920000</td>\n",
       "      <td>89.000000</td>\n",
       "    </tr>\n",
       "    <tr>\n",
       "      <td>max</td>\n",
       "      <td>33378.000000</td>\n",
       "      <td>0.949000</td>\n",
       "      <td>336.000000</td>\n",
       "    </tr>\n",
       "  </tbody>\n",
       "</table>\n",
       "</div>"
      ],
      "text/plain": [
       "        enrollee_id  city_development_index  training_hours\n",
       "count  15021.000000            15021.000000    15021.000000\n",
       "mean   16643.004327                0.846683       65.158179\n",
       "std     9626.895233                0.109709       59.719211\n",
       "min        6.000000                0.448000        1.000000\n",
       "25%     8316.000000                0.794000       23.000000\n",
       "50%    16664.000000                0.910000       47.000000\n",
       "75%    24908.000000                0.920000       89.000000\n",
       "max    33378.000000                0.949000      336.000000"
      ]
     },
     "execution_count": 11,
     "metadata": {},
     "output_type": "execute_result"
    }
   ],
   "source": [
    "df_test.describe()"
   ]
  },
  {
   "cell_type": "code",
   "execution_count": 12,
   "metadata": {},
   "outputs": [
    {
     "data": {
      "text/html": [
       "<div>\n",
       "<style scoped>\n",
       "    .dataframe tbody tr th:only-of-type {\n",
       "        vertical-align: middle;\n",
       "    }\n",
       "\n",
       "    .dataframe tbody tr th {\n",
       "        vertical-align: top;\n",
       "    }\n",
       "\n",
       "    .dataframe thead th {\n",
       "        text-align: right;\n",
       "    }\n",
       "</style>\n",
       "<table border=\"1\" class=\"dataframe\">\n",
       "  <thead>\n",
       "    <tr style=\"text-align: right;\">\n",
       "      <th></th>\n",
       "      <th>city</th>\n",
       "      <th>gender</th>\n",
       "      <th>relevent_experience</th>\n",
       "      <th>enrolled_university</th>\n",
       "      <th>education_level</th>\n",
       "      <th>major_discipline</th>\n",
       "      <th>experience</th>\n",
       "      <th>company_size</th>\n",
       "      <th>company_type</th>\n",
       "      <th>last_new_job</th>\n",
       "    </tr>\n",
       "  </thead>\n",
       "  <tbody>\n",
       "    <tr>\n",
       "      <td>count</td>\n",
       "      <td>15021</td>\n",
       "      <td>11633</td>\n",
       "      <td>15021</td>\n",
       "      <td>14742</td>\n",
       "      <td>14626</td>\n",
       "      <td>12628</td>\n",
       "      <td>14977</td>\n",
       "      <td>10970</td>\n",
       "      <td>10691</td>\n",
       "      <td>14717</td>\n",
       "    </tr>\n",
       "    <tr>\n",
       "      <td>unique</td>\n",
       "      <td>123</td>\n",
       "      <td>3</td>\n",
       "      <td>2</td>\n",
       "      <td>3</td>\n",
       "      <td>5</td>\n",
       "      <td>6</td>\n",
       "      <td>22</td>\n",
       "      <td>8</td>\n",
       "      <td>6</td>\n",
       "      <td>6</td>\n",
       "    </tr>\n",
       "    <tr>\n",
       "      <td>top</td>\n",
       "      <td>city_103</td>\n",
       "      <td>Male</td>\n",
       "      <td>Has relevent experience</td>\n",
       "      <td>no_enrollment</td>\n",
       "      <td>Graduate</td>\n",
       "      <td>STEM</td>\n",
       "      <td>&gt;20</td>\n",
       "      <td>50-99</td>\n",
       "      <td>Pvt Ltd</td>\n",
       "      <td>1</td>\n",
       "    </tr>\n",
       "    <tr>\n",
       "      <td>freq</td>\n",
       "      <td>3494</td>\n",
       "      <td>10578</td>\n",
       "      <td>11102</td>\n",
       "      <td>11228</td>\n",
       "      <td>8743</td>\n",
       "      <td>11117</td>\n",
       "      <td>2713</td>\n",
       "      <td>2577</td>\n",
       "      <td>8063</td>\n",
       "      <td>6246</td>\n",
       "    </tr>\n",
       "  </tbody>\n",
       "</table>\n",
       "</div>"
      ],
      "text/plain": [
       "            city gender      relevent_experience enrolled_university  \\\n",
       "count      15021  11633                    15021               14742   \n",
       "unique       123      3                        2                   3   \n",
       "top     city_103   Male  Has relevent experience       no_enrollment   \n",
       "freq        3494  10578                    11102               11228   \n",
       "\n",
       "       education_level major_discipline experience company_size company_type  \\\n",
       "count            14626            12628      14977        10970        10691   \n",
       "unique               5                6         22            8            6   \n",
       "top           Graduate             STEM        >20        50-99      Pvt Ltd   \n",
       "freq              8743            11117       2713         2577         8063   \n",
       "\n",
       "       last_new_job  \n",
       "count         14717  \n",
       "unique            6  \n",
       "top               1  \n",
       "freq           6246  "
      ]
     },
     "execution_count": 12,
     "metadata": {},
     "output_type": "execute_result"
    }
   ],
   "source": [
    "df_test.describe(include='object')"
   ]
  },
  {
   "cell_type": "code",
   "execution_count": 13,
   "metadata": {},
   "outputs": [
    {
     "name": "stdout",
     "output_type": "stream",
     "text": [
      "<class 'pandas.core.frame.DataFrame'>\n",
      "RangeIndex: 15021 entries, 0 to 15020\n",
      "Data columns (total 13 columns):\n",
      "enrollee_id               15021 non-null int64\n",
      "city                      15021 non-null object\n",
      "city_development_index    15021 non-null float64\n",
      "gender                    11633 non-null object\n",
      "relevent_experience       15021 non-null object\n",
      "enrolled_university       14742 non-null object\n",
      "education_level           14626 non-null object\n",
      "major_discipline          12628 non-null object\n",
      "experience                14977 non-null object\n",
      "company_size              10970 non-null object\n",
      "company_type              10691 non-null object\n",
      "last_new_job              14717 non-null object\n",
      "training_hours            15021 non-null int64\n",
      "dtypes: float64(1), int64(2), object(10)\n",
      "memory usage: 1.5+ MB\n"
     ]
    }
   ],
   "source": [
    "df_test.info()"
   ]
  },
  {
   "cell_type": "code",
   "execution_count": 14,
   "metadata": {},
   "outputs": [
    {
     "name": "stdout",
     "output_type": "stream",
     "text": [
      "{'gender': [nan, 'Male', 'Female', 'Other'], 'relevent_experience': ['No relevent experience', 'Has relevent experience'], 'enrolled_university': ['Full time course', 'no_enrollment', 'Part time course', nan], 'education_level': ['Graduate', 'Phd', 'High School', 'Masters', nan, 'Primary School'], 'major_discipline': ['STEM', nan, 'Arts', 'Humanities', 'Other', 'No Major', 'Business Degree'], 'experience': ['<1', '>20', '3', '6', '7', '9', '18', '2', '10', '14', '16', '5', '19', '17', '4', '8', '12', '13', '20', '15', '1', '11', nan], 'company_size': ['1000-4999', '50-99', nan, '<10', '100-500', '10000+', '10/49', '5000-9999', '500-999'], 'company_type': ['Public Sector', 'Pvt Ltd', nan, 'NGO', 'Funded Startup', 'Early Stage Startup', 'Other'], 'last_new_job': [nan, '1', '2', '>4', 'never', '4', '3']}\n"
     ]
    }
   ],
   "source": [
    "cat_col = df_test.select_dtypes(include='object').columns\n",
    "num_col = df_test.select_dtypes(exclude='object').columns\n",
    "\n",
    "unique_dict = {i:list(df_test[i].unique()) for i in cat_col[1:]}\n",
    "print(unique_dict)"
   ]
  },
  {
   "cell_type": "code",
   "execution_count": 15,
   "metadata": {},
   "outputs": [
    {
     "data": {
      "text/plain": [
       "enrollee_id                  0\n",
       "city                         0\n",
       "city_development_index       0\n",
       "gender                    3388\n",
       "relevent_experience          0\n",
       "enrolled_university        279\n",
       "education_level            395\n",
       "major_discipline          2393\n",
       "experience                  44\n",
       "company_size              4051\n",
       "company_type              4330\n",
       "last_new_job               304\n",
       "training_hours               0\n",
       "dtype: int64"
      ]
     },
     "execution_count": 15,
     "metadata": {},
     "output_type": "execute_result"
    }
   ],
   "source": [
    "df_test.isnull().sum()\n"
   ]
  },
  {
   "cell_type": "markdown",
   "metadata": {},
   "source": [
    "## Inference:\n",
    "\n",
    "There are a lot of missing values, so missing values need to be treated"
   ]
  },
  {
   "cell_type": "markdown",
   "metadata": {},
   "source": [
    "## Data Pre-processing\n",
    "#### Merging both train and test sets\n",
    "- so that, missing values treatment is done at once"
   ]
  },
  {
   "cell_type": "code",
   "execution_count": 16,
   "metadata": {},
   "outputs": [],
   "source": [
    "df_train['data'] = 'train'\n",
    "df_test['data'] = 'test'\n",
    "df_test['target'] = 0\n",
    "\n",
    "df = pd.concat([df_train,df_test])"
   ]
  },
  {
   "cell_type": "code",
   "execution_count": 17,
   "metadata": {},
   "outputs": [
    {
     "data": {
      "text/html": [
       "<div>\n",
       "<style scoped>\n",
       "    .dataframe tbody tr th:only-of-type {\n",
       "        vertical-align: middle;\n",
       "    }\n",
       "\n",
       "    .dataframe tbody tr th {\n",
       "        vertical-align: top;\n",
       "    }\n",
       "\n",
       "    .dataframe thead th {\n",
       "        text-align: right;\n",
       "    }\n",
       "</style>\n",
       "<table border=\"1\" class=\"dataframe\">\n",
       "  <thead>\n",
       "    <tr style=\"text-align: right;\">\n",
       "      <th></th>\n",
       "      <th>city</th>\n",
       "      <th>city_development_index</th>\n",
       "      <th>company_size</th>\n",
       "      <th>company_type</th>\n",
       "      <th>data</th>\n",
       "      <th>education_level</th>\n",
       "      <th>enrolled_university</th>\n",
       "      <th>enrollee_id</th>\n",
       "      <th>experience</th>\n",
       "      <th>gender</th>\n",
       "      <th>last_new_job</th>\n",
       "      <th>major_discipline</th>\n",
       "      <th>relevent_experience</th>\n",
       "      <th>target</th>\n",
       "      <th>training_hours</th>\n",
       "    </tr>\n",
       "  </thead>\n",
       "  <tbody>\n",
       "    <tr>\n",
       "      <td>0</td>\n",
       "      <td>city_149</td>\n",
       "      <td>0.689</td>\n",
       "      <td>100-500</td>\n",
       "      <td>Pvt Ltd</td>\n",
       "      <td>train</td>\n",
       "      <td>Graduate</td>\n",
       "      <td>no_enrollment</td>\n",
       "      <td>23798</td>\n",
       "      <td>3</td>\n",
       "      <td>Male</td>\n",
       "      <td>1</td>\n",
       "      <td>STEM</td>\n",
       "      <td>Has relevent experience</td>\n",
       "      <td>0</td>\n",
       "      <td>106</td>\n",
       "    </tr>\n",
       "    <tr>\n",
       "      <td>1</td>\n",
       "      <td>city_83</td>\n",
       "      <td>0.923</td>\n",
       "      <td>&lt;10</td>\n",
       "      <td>Funded Startup</td>\n",
       "      <td>train</td>\n",
       "      <td>Graduate</td>\n",
       "      <td>no_enrollment</td>\n",
       "      <td>29166</td>\n",
       "      <td>14</td>\n",
       "      <td>Male</td>\n",
       "      <td>1</td>\n",
       "      <td>STEM</td>\n",
       "      <td>Has relevent experience</td>\n",
       "      <td>0</td>\n",
       "      <td>69</td>\n",
       "    </tr>\n",
       "    <tr>\n",
       "      <td>2</td>\n",
       "      <td>city_16</td>\n",
       "      <td>0.910</td>\n",
       "      <td>50-99</td>\n",
       "      <td>Public Sector</td>\n",
       "      <td>train</td>\n",
       "      <td>Graduate</td>\n",
       "      <td>no_enrollment</td>\n",
       "      <td>46</td>\n",
       "      <td>6</td>\n",
       "      <td>NaN</td>\n",
       "      <td>2</td>\n",
       "      <td>STEM</td>\n",
       "      <td>Has relevent experience</td>\n",
       "      <td>0</td>\n",
       "      <td>4</td>\n",
       "    </tr>\n",
       "    <tr>\n",
       "      <td>3</td>\n",
       "      <td>city_64</td>\n",
       "      <td>0.666</td>\n",
       "      <td>50-99</td>\n",
       "      <td>Pvt Ltd</td>\n",
       "      <td>train</td>\n",
       "      <td>Graduate</td>\n",
       "      <td>no_enrollment</td>\n",
       "      <td>18527</td>\n",
       "      <td>14</td>\n",
       "      <td>Male</td>\n",
       "      <td>1</td>\n",
       "      <td>STEM</td>\n",
       "      <td>Has relevent experience</td>\n",
       "      <td>0</td>\n",
       "      <td>26</td>\n",
       "    </tr>\n",
       "    <tr>\n",
       "      <td>4</td>\n",
       "      <td>city_100</td>\n",
       "      <td>0.887</td>\n",
       "      <td>NaN</td>\n",
       "      <td>NaN</td>\n",
       "      <td>train</td>\n",
       "      <td>Masters</td>\n",
       "      <td>no_enrollment</td>\n",
       "      <td>21751</td>\n",
       "      <td>8</td>\n",
       "      <td>NaN</td>\n",
       "      <td>2</td>\n",
       "      <td>STEM</td>\n",
       "      <td>No relevent experience</td>\n",
       "      <td>1</td>\n",
       "      <td>88</td>\n",
       "    </tr>\n",
       "  </tbody>\n",
       "</table>\n",
       "</div>"
      ],
      "text/plain": [
       "       city  city_development_index company_size    company_type   data  \\\n",
       "0  city_149                   0.689      100-500         Pvt Ltd  train   \n",
       "1   city_83                   0.923          <10  Funded Startup  train   \n",
       "2   city_16                   0.910        50-99   Public Sector  train   \n",
       "3   city_64                   0.666        50-99         Pvt Ltd  train   \n",
       "4  city_100                   0.887          NaN             NaN  train   \n",
       "\n",
       "  education_level enrolled_university  enrollee_id experience gender  \\\n",
       "0        Graduate       no_enrollment        23798          3   Male   \n",
       "1        Graduate       no_enrollment        29166         14   Male   \n",
       "2        Graduate       no_enrollment           46          6    NaN   \n",
       "3        Graduate       no_enrollment        18527         14   Male   \n",
       "4         Masters       no_enrollment        21751          8    NaN   \n",
       "\n",
       "  last_new_job major_discipline      relevent_experience  target  \\\n",
       "0            1             STEM  Has relevent experience       0   \n",
       "1            1             STEM  Has relevent experience       0   \n",
       "2            2             STEM  Has relevent experience       0   \n",
       "3            1             STEM  Has relevent experience       0   \n",
       "4            2             STEM   No relevent experience       1   \n",
       "\n",
       "   training_hours  \n",
       "0             106  \n",
       "1              69  \n",
       "2               4  \n",
       "3              26  \n",
       "4              88  "
      ]
     },
     "execution_count": 17,
     "metadata": {},
     "output_type": "execute_result"
    }
   ],
   "source": [
    "df.head()"
   ]
  },
  {
   "cell_type": "code",
   "execution_count": 18,
   "metadata": {},
   "outputs": [
    {
     "data": {
      "text/plain": [
       "(33380, 15)"
      ]
     },
     "execution_count": 18,
     "metadata": {},
     "output_type": "execute_result"
    }
   ],
   "source": [
    "df.shape"
   ]
  },
  {
   "cell_type": "code",
   "execution_count": 19,
   "metadata": {},
   "outputs": [
    {
     "data": {
      "text/plain": [
       "city                         0\n",
       "city_development_index       0\n",
       "company_size              8830\n",
       "company_type              9369\n",
       "data                         0\n",
       "education_level            852\n",
       "enrolled_university        621\n",
       "enrollee_id                  0\n",
       "experience                 103\n",
       "gender                    7486\n",
       "last_new_job               671\n",
       "major_discipline          5231\n",
       "relevent_experience          0\n",
       "target                       0\n",
       "training_hours               0\n",
       "dtype: int64"
      ]
     },
     "execution_count": 19,
     "metadata": {},
     "output_type": "execute_result"
    }
   ],
   "source": [
    "df.isnull().sum()"
   ]
  },
  {
   "cell_type": "code",
   "execution_count": 20,
   "metadata": {},
   "outputs": [
    {
     "name": "stdout",
     "output_type": "stream",
     "text": [
      "{'company_size': ['100-500', '<10', '50-99', nan, '5000-9999', '10000+', '1000-4999', '500-999', '10/49'], 'company_type': ['Pvt Ltd', 'Funded Startup', 'Public Sector', nan, 'Early Stage Startup', 'NGO', 'Other'], 'data': ['train', 'test'], 'education_level': ['Graduate', 'Masters', 'High School', 'Phd', nan, 'Primary School'], 'enrolled_university': ['no_enrollment', 'Full time course', 'Part time course', nan], 'experience': ['3', '14', '6', '8', '>20', '4', '9', '15', '10', '1', '5', '16', '11', '12', '7', '2', '13', '<1', '19', '18', '17', nan, '20'], 'gender': ['Male', nan, 'Female', 'Other'], 'last_new_job': ['1', '2', '3', '>4', 'never', '4', nan], 'major_discipline': ['STEM', 'Other', 'No Major', nan, 'Business Degree', 'Arts', 'Humanities'], 'relevent_experience': ['Has relevent experience', 'No relevent experience']}\n"
     ]
    }
   ],
   "source": [
    "cat_col = df.select_dtypes(include='object').columns\n",
    "num_col = df.select_dtypes(exclude='object').columns\n",
    "\n",
    "unique_dict = {i:list(df[i].unique()) for i in cat_col[1:]}\n",
    "print(unique_dict)"
   ]
  },
  {
   "cell_type": "code",
   "execution_count": 21,
   "metadata": {},
   "outputs": [
    {
     "data": {
      "text/html": [
       "<div>\n",
       "<style scoped>\n",
       "    .dataframe tbody tr th:only-of-type {\n",
       "        vertical-align: middle;\n",
       "    }\n",
       "\n",
       "    .dataframe tbody tr th {\n",
       "        vertical-align: top;\n",
       "    }\n",
       "\n",
       "    .dataframe thead th {\n",
       "        text-align: right;\n",
       "    }\n",
       "</style>\n",
       "<table border=\"1\" class=\"dataframe\">\n",
       "  <thead>\n",
       "    <tr style=\"text-align: right;\">\n",
       "      <th></th>\n",
       "      <th>city</th>\n",
       "      <th>company_size</th>\n",
       "      <th>company_type</th>\n",
       "      <th>data</th>\n",
       "      <th>education_level</th>\n",
       "      <th>enrolled_university</th>\n",
       "      <th>experience</th>\n",
       "      <th>gender</th>\n",
       "      <th>last_new_job</th>\n",
       "      <th>major_discipline</th>\n",
       "      <th>relevent_experience</th>\n",
       "    </tr>\n",
       "  </thead>\n",
       "  <tbody>\n",
       "    <tr>\n",
       "      <td>count</td>\n",
       "      <td>33380</td>\n",
       "      <td>24550</td>\n",
       "      <td>24011</td>\n",
       "      <td>33380</td>\n",
       "      <td>32528</td>\n",
       "      <td>32759</td>\n",
       "      <td>33277</td>\n",
       "      <td>25894</td>\n",
       "      <td>32709</td>\n",
       "      <td>28149</td>\n",
       "      <td>33380</td>\n",
       "    </tr>\n",
       "    <tr>\n",
       "      <td>unique</td>\n",
       "      <td>123</td>\n",
       "      <td>8</td>\n",
       "      <td>6</td>\n",
       "      <td>2</td>\n",
       "      <td>5</td>\n",
       "      <td>3</td>\n",
       "      <td>22</td>\n",
       "      <td>3</td>\n",
       "      <td>6</td>\n",
       "      <td>6</td>\n",
       "      <td>2</td>\n",
       "    </tr>\n",
       "    <tr>\n",
       "      <td>top</td>\n",
       "      <td>city_103</td>\n",
       "      <td>50-99</td>\n",
       "      <td>Pvt Ltd</td>\n",
       "      <td>train</td>\n",
       "      <td>Graduate</td>\n",
       "      <td>no_enrollment</td>\n",
       "      <td>&gt;20</td>\n",
       "      <td>Male</td>\n",
       "      <td>1</td>\n",
       "      <td>STEM</td>\n",
       "      <td>Has relevent experience</td>\n",
       "    </tr>\n",
       "    <tr>\n",
       "      <td>freq</td>\n",
       "      <td>7852</td>\n",
       "      <td>5697</td>\n",
       "      <td>18114</td>\n",
       "      <td>18359</td>\n",
       "      <td>19512</td>\n",
       "      <td>24887</td>\n",
       "      <td>6150</td>\n",
       "      <td>23462</td>\n",
       "      <td>13813</td>\n",
       "      <td>24855</td>\n",
       "      <td>24698</td>\n",
       "    </tr>\n",
       "  </tbody>\n",
       "</table>\n",
       "</div>"
      ],
      "text/plain": [
       "            city company_size company_type   data education_level  \\\n",
       "count      33380        24550        24011  33380           32528   \n",
       "unique       123            8            6      2               5   \n",
       "top     city_103        50-99      Pvt Ltd  train        Graduate   \n",
       "freq        7852         5697        18114  18359           19512   \n",
       "\n",
       "       enrolled_university experience gender last_new_job major_discipline  \\\n",
       "count                32759      33277  25894        32709            28149   \n",
       "unique                   3         22      3            6                6   \n",
       "top          no_enrollment        >20   Male            1             STEM   \n",
       "freq                 24887       6150  23462        13813            24855   \n",
       "\n",
       "            relevent_experience  \n",
       "count                     33380  \n",
       "unique                        2  \n",
       "top     Has relevent experience  \n",
       "freq                      24698  "
      ]
     },
     "execution_count": 21,
     "metadata": {},
     "output_type": "execute_result"
    }
   ],
   "source": [
    "df.describe(include='object')"
   ]
  },
  {
   "cell_type": "code",
   "execution_count": 22,
   "metadata": {},
   "outputs": [
    {
     "data": {
      "text/plain": [
       "company_type\n",
       "Early Stage Startup           [<10, 10/49, 50-99, 100-500, nan, 500-999]\n",
       "Funded Startup                [<10, 100-500, 10/49, 50-99, 500-999, nan]\n",
       "NGO                    [1000-4999, 100-500, 10/49, 50-99, 10000+, nan...\n",
       "Other                  [500-999, 5000-9999, 100-500, nan, 50-99, 1000...\n",
       "Public Sector          [50-99, 10000+, 100-500, 10/49, 1000-4999, 500...\n",
       "Pvt Ltd                [100-500, 50-99, 5000-9999, 10000+, <10, 1000-...\n",
       "Name: company_size, dtype: object"
      ]
     },
     "execution_count": 22,
     "metadata": {},
     "output_type": "execute_result"
    }
   ],
   "source": [
    "df.groupby('company_type')['company_size'].unique()"
   ]
  },
  {
   "cell_type": "code",
   "execution_count": 23,
   "metadata": {},
   "outputs": [
    {
     "data": {
      "text/plain": [
       "4        NaN\n",
       "15       NaN\n",
       "19       NaN\n",
       "22       NaN\n",
       "26       NaN\n",
       "        ... \n",
       "15011    NaN\n",
       "15013    NaN\n",
       "15014    NaN\n",
       "15019    NaN\n",
       "15020    NaN\n",
       "Name: company_type, Length: 8830, dtype: object"
      ]
     },
     "execution_count": 23,
     "metadata": {},
     "output_type": "execute_result"
    }
   ],
   "source": [
    "df.loc[df['company_size'].isnull(),'company_type']"
   ]
  },
  {
   "cell_type": "code",
   "execution_count": 24,
   "metadata": {},
   "outputs": [
    {
     "data": {
      "text/plain": [
       "50-99        3946\n",
       "100-500      3451\n",
       "10000+       3103\n",
       "1000-4999    1903\n",
       "10/49        1662\n",
       "<10          1400\n",
       "500-999      1168\n",
       "5000-9999     763\n",
       "Name: company_size, dtype: int64"
      ]
     },
     "execution_count": 24,
     "metadata": {},
     "output_type": "execute_result"
    }
   ],
   "source": [
    "df.loc[df['company_type']=='Pvt Ltd','company_size'].value_counts()"
   ]
  },
  {
   "cell_type": "markdown",
   "metadata": {},
   "source": [
    "## Imputing Values\n",
    "\n",
    "- some categorical values can be imputed with the maximum occurring sub-category within each feature\n",
    "- for some features like company_size, experience and last_new_job needs to be treated differently as the format for the values is different"
   ]
  },
  {
   "cell_type": "code",
   "execution_count": 25,
   "metadata": {},
   "outputs": [],
   "source": [
    "df['gender'] = df['gender'].fillna(df['gender'].mode()[0])"
   ]
  },
  {
   "cell_type": "code",
   "execution_count": 26,
   "metadata": {},
   "outputs": [],
   "source": [
    "df['enrolled_university'] = df['enrolled_university'].fillna(df['enrolled_university'].mode()[0])"
   ]
  },
  {
   "cell_type": "code",
   "execution_count": 27,
   "metadata": {},
   "outputs": [],
   "source": [
    "df['education_level'] = df['education_level'].fillna(df['education_level'].mode()[0])"
   ]
  },
  {
   "cell_type": "code",
   "execution_count": 28,
   "metadata": {},
   "outputs": [],
   "source": [
    "df['company_type'] = df['company_type'].fillna(df['company_type'].mode()[0])"
   ]
  },
  {
   "cell_type": "code",
   "execution_count": 29,
   "metadata": {},
   "outputs": [],
   "source": [
    "df['major_discipline'] = df['major_discipline'].fillna(df['major_discipline'].mode()[0])"
   ]
  },
  {
   "cell_type": "code",
   "execution_count": 30,
   "metadata": {},
   "outputs": [],
   "source": [
    "df['last_new_job'] = df['last_new_job'].fillna(df['last_new_job'].mode()[0])"
   ]
  },
  {
   "cell_type": "code",
   "execution_count": 31,
   "metadata": {},
   "outputs": [],
   "source": [
    "df['experience'] = df['experience'].fillna(df['experience'].mode()[0])"
   ]
  },
  {
   "cell_type": "code",
   "execution_count": 32,
   "metadata": {},
   "outputs": [],
   "source": [
    "def assign_exp(x):\n",
    "    exp_level = ''\n",
    "    if x.isdigit():\n",
    "        if ((int(x) >= 2) and (int(x) < 10)):\n",
    "            exp_level = 'intermediate'\n",
    "        else:\n",
    "            exp_level = 'mid'\n",
    "    else:\n",
    "        if x.isalnum:\n",
    "            if int(x[1:]) == 20:\n",
    "                exp_level ='senior'\n",
    "            else:\n",
    "                exp_level ='no'\n",
    "    return exp_level\n",
    "\n",
    "## adding a new attribute based on experience\n",
    "df['experience_level'] = df['experience'].apply(assign_exp)"
   ]
  },
  {
   "cell_type": "code",
   "execution_count": 33,
   "metadata": {},
   "outputs": [],
   "source": [
    "def assign_year(x):\n",
    "    n_year = ''\n",
    "    if ((x.isalnum and (x[0] == '>') and (int(x[1:]) > 0) )):\n",
    "            n_year = 1\n",
    "    else:\n",
    "        if (x.isdigit()) and (int(x)>0):\n",
    "            n_year =  1\n",
    "        else:\n",
    "            n_year =  0\n",
    "    return n_year\n",
    "\n",
    "## adding a new attribute based on last_new_job\n",
    "df['have_unemployed_years'] = df['last_new_job'].apply(assign_year)"
   ]
  },
  {
   "cell_type": "code",
   "execution_count": 34,
   "metadata": {},
   "outputs": [],
   "source": [
    "def assign_size(x):\n",
    "    size = 0\n",
    "    if x == 'Pvt Ltd':\n",
    "        size = '100-500'\n",
    "    elif x == 'Public Sector':\n",
    "        size = '500-900'\n",
    "    elif x == 'NGO':\n",
    "        size = '500-999'\n",
    "    elif x == 'Other':\n",
    "        size = '50-99'\n",
    "    elif x == 'Funded Startup':\n",
    "        size = '100-500'\n",
    "    else:\n",
    "        size = '100-500'\n",
    "    return size\n",
    "\n",
    "\n",
    "for i in df['company_type'].unique().tolist():\n",
    "    df.loc[(df['company_type'] == i) & (df['company_size'].isnull()),'company_size'] = assign_size(i)"
   ]
  },
  {
   "cell_type": "code",
   "execution_count": 35,
   "metadata": {},
   "outputs": [
    {
     "data": {
      "text/plain": [
       "city                      0\n",
       "city_development_index    0\n",
       "company_size              0\n",
       "company_type              0\n",
       "data                      0\n",
       "education_level           0\n",
       "enrolled_university       0\n",
       "enrollee_id               0\n",
       "experience                0\n",
       "gender                    0\n",
       "last_new_job              0\n",
       "major_discipline          0\n",
       "relevent_experience       0\n",
       "target                    0\n",
       "training_hours            0\n",
       "experience_level          0\n",
       "have_unemployed_years     0\n",
       "dtype: int64"
      ]
     },
     "execution_count": 35,
     "metadata": {},
     "output_type": "execute_result"
    }
   ],
   "source": [
    "df.isnull().sum()"
   ]
  },
  {
   "cell_type": "code",
   "execution_count": 36,
   "metadata": {},
   "outputs": [
    {
     "data": {
      "text/plain": [
       "array(['100-500', '<10', '50-99', '5000-9999', '10000+', '1000-4999',\n",
       "       '500-999', '10/49', '500-900'], dtype=object)"
      ]
     },
     "execution_count": 36,
     "metadata": {},
     "output_type": "execute_result"
    }
   ],
   "source": [
    "df['company_size'].unique()"
   ]
  },
  {
   "cell_type": "code",
   "execution_count": 37,
   "metadata": {},
   "outputs": [
    {
     "data": {
      "text/html": [
       "<div>\n",
       "<style scoped>\n",
       "    .dataframe tbody tr th:only-of-type {\n",
       "        vertical-align: middle;\n",
       "    }\n",
       "\n",
       "    .dataframe tbody tr th {\n",
       "        vertical-align: top;\n",
       "    }\n",
       "\n",
       "    .dataframe thead th {\n",
       "        text-align: right;\n",
       "    }\n",
       "</style>\n",
       "<table border=\"1\" class=\"dataframe\">\n",
       "  <thead>\n",
       "    <tr style=\"text-align: right;\">\n",
       "      <th></th>\n",
       "      <th>city</th>\n",
       "      <th>city_development_index</th>\n",
       "      <th>company_size</th>\n",
       "      <th>company_type</th>\n",
       "      <th>data</th>\n",
       "      <th>education_level</th>\n",
       "      <th>enrolled_university</th>\n",
       "      <th>enrollee_id</th>\n",
       "      <th>experience</th>\n",
       "      <th>gender</th>\n",
       "      <th>last_new_job</th>\n",
       "      <th>major_discipline</th>\n",
       "      <th>relevent_experience</th>\n",
       "      <th>target</th>\n",
       "      <th>training_hours</th>\n",
       "      <th>experience_level</th>\n",
       "      <th>have_unemployed_years</th>\n",
       "    </tr>\n",
       "  </thead>\n",
       "  <tbody>\n",
       "    <tr>\n",
       "      <td>1</td>\n",
       "      <td>city_83</td>\n",
       "      <td>0.923</td>\n",
       "      <td>&lt;10</td>\n",
       "      <td>Funded Startup</td>\n",
       "      <td>train</td>\n",
       "      <td>Graduate</td>\n",
       "      <td>no_enrollment</td>\n",
       "      <td>29166</td>\n",
       "      <td>14</td>\n",
       "      <td>Male</td>\n",
       "      <td>1</td>\n",
       "      <td>STEM</td>\n",
       "      <td>Has relevent experience</td>\n",
       "      <td>0</td>\n",
       "      <td>69</td>\n",
       "      <td>mid</td>\n",
       "      <td>1</td>\n",
       "    </tr>\n",
       "    <tr>\n",
       "      <td>7</td>\n",
       "      <td>city_114</td>\n",
       "      <td>0.926</td>\n",
       "      <td>&lt;10</td>\n",
       "      <td>Pvt Ltd</td>\n",
       "      <td>train</td>\n",
       "      <td>Masters</td>\n",
       "      <td>no_enrollment</td>\n",
       "      <td>24127</td>\n",
       "      <td>&gt;20</td>\n",
       "      <td>Male</td>\n",
       "      <td>&gt;4</td>\n",
       "      <td>STEM</td>\n",
       "      <td>Has relevent experience</td>\n",
       "      <td>0</td>\n",
       "      <td>8</td>\n",
       "      <td>senior</td>\n",
       "      <td>1</td>\n",
       "    </tr>\n",
       "    <tr>\n",
       "      <td>17</td>\n",
       "      <td>city_136</td>\n",
       "      <td>0.897</td>\n",
       "      <td>&lt;10</td>\n",
       "      <td>Early Stage Startup</td>\n",
       "      <td>train</td>\n",
       "      <td>Masters</td>\n",
       "      <td>no_enrollment</td>\n",
       "      <td>16508</td>\n",
       "      <td>3</td>\n",
       "      <td>Male</td>\n",
       "      <td>never</td>\n",
       "      <td>STEM</td>\n",
       "      <td>Has relevent experience</td>\n",
       "      <td>0</td>\n",
       "      <td>42</td>\n",
       "      <td>intermediate</td>\n",
       "      <td>0</td>\n",
       "    </tr>\n",
       "    <tr>\n",
       "      <td>21</td>\n",
       "      <td>city_67</td>\n",
       "      <td>0.855</td>\n",
       "      <td>&lt;10</td>\n",
       "      <td>Pvt Ltd</td>\n",
       "      <td>train</td>\n",
       "      <td>Graduate</td>\n",
       "      <td>no_enrollment</td>\n",
       "      <td>16067</td>\n",
       "      <td>10</td>\n",
       "      <td>Male</td>\n",
       "      <td>2</td>\n",
       "      <td>STEM</td>\n",
       "      <td>Has relevent experience</td>\n",
       "      <td>0</td>\n",
       "      <td>51</td>\n",
       "      <td>mid</td>\n",
       "      <td>1</td>\n",
       "    </tr>\n",
       "    <tr>\n",
       "      <td>27</td>\n",
       "      <td>city_76</td>\n",
       "      <td>0.698</td>\n",
       "      <td>&lt;10</td>\n",
       "      <td>Pvt Ltd</td>\n",
       "      <td>train</td>\n",
       "      <td>Graduate</td>\n",
       "      <td>no_enrollment</td>\n",
       "      <td>5634</td>\n",
       "      <td>14</td>\n",
       "      <td>Male</td>\n",
       "      <td>2</td>\n",
       "      <td>STEM</td>\n",
       "      <td>Has relevent experience</td>\n",
       "      <td>0</td>\n",
       "      <td>298</td>\n",
       "      <td>mid</td>\n",
       "      <td>1</td>\n",
       "    </tr>\n",
       "  </tbody>\n",
       "</table>\n",
       "</div>"
      ],
      "text/plain": [
       "        city  city_development_index company_size         company_type   data  \\\n",
       "1    city_83                   0.923          <10       Funded Startup  train   \n",
       "7   city_114                   0.926          <10              Pvt Ltd  train   \n",
       "17  city_136                   0.897          <10  Early Stage Startup  train   \n",
       "21   city_67                   0.855          <10              Pvt Ltd  train   \n",
       "27   city_76                   0.698          <10              Pvt Ltd  train   \n",
       "\n",
       "   education_level enrolled_university  enrollee_id experience gender  \\\n",
       "1         Graduate       no_enrollment        29166         14   Male   \n",
       "7          Masters       no_enrollment        24127        >20   Male   \n",
       "17         Masters       no_enrollment        16508          3   Male   \n",
       "21        Graduate       no_enrollment        16067         10   Male   \n",
       "27        Graduate       no_enrollment         5634         14   Male   \n",
       "\n",
       "   last_new_job major_discipline      relevent_experience  target  \\\n",
       "1             1             STEM  Has relevent experience       0   \n",
       "7            >4             STEM  Has relevent experience       0   \n",
       "17        never             STEM  Has relevent experience       0   \n",
       "21            2             STEM  Has relevent experience       0   \n",
       "27            2             STEM  Has relevent experience       0   \n",
       "\n",
       "    training_hours experience_level  have_unemployed_years  \n",
       "1               69              mid                      1  \n",
       "7                8           senior                      1  \n",
       "17              42     intermediate                      0  \n",
       "21              51              mid                      1  \n",
       "27             298              mid                      1  "
      ]
     },
     "execution_count": 37,
     "metadata": {},
     "output_type": "execute_result"
    }
   ],
   "source": [
    "df[df['company_size']=='<10'].head()"
   ]
  },
  {
   "cell_type": "code",
   "execution_count": 38,
   "metadata": {},
   "outputs": [],
   "source": [
    "def assign_comp_size(x):\n",
    "    size = ''\n",
    "    if ((str(x) == '<10') or (str(x) == '50-99') or (str(x) == '10/49')):\n",
    "        size = 'small'\n",
    "    elif ((str(x) == '100-500') or (str(x) == '500-999') or (str(x) == '500-900')):\n",
    "        size = 'mid'\n",
    "    else:\n",
    "        size = 'large'\n",
    "    return size\n",
    "\n",
    "## adding a new attribute based on company_size\n",
    "df['comp_size'] = df['company_size'].apply(assign_comp_size)"
   ]
  },
  {
   "cell_type": "markdown",
   "metadata": {},
   "source": [
    "### Note:\n",
    "Here, the features like experience, last_new_job nad company size had values of varying format. They are treated with appropriate logic so as to make the format similar throughout the feature"
   ]
  },
  {
   "cell_type": "code",
   "execution_count": 39,
   "metadata": {},
   "outputs": [],
   "source": [
    "df = df.drop(['experience','last_new_job','company_size'], axis = 1)"
   ]
  },
  {
   "cell_type": "code",
   "execution_count": 40,
   "metadata": {},
   "outputs": [
    {
     "data": {
      "text/plain": [
       "(33380, 15)"
      ]
     },
     "execution_count": 40,
     "metadata": {},
     "output_type": "execute_result"
    }
   ],
   "source": [
    "df.shape"
   ]
  },
  {
   "cell_type": "code",
   "execution_count": 41,
   "metadata": {},
   "outputs": [
    {
     "data": {
      "text/html": [
       "<div>\n",
       "<style scoped>\n",
       "    .dataframe tbody tr th:only-of-type {\n",
       "        vertical-align: middle;\n",
       "    }\n",
       "\n",
       "    .dataframe tbody tr th {\n",
       "        vertical-align: top;\n",
       "    }\n",
       "\n",
       "    .dataframe thead th {\n",
       "        text-align: right;\n",
       "    }\n",
       "</style>\n",
       "<table border=\"1\" class=\"dataframe\">\n",
       "  <thead>\n",
       "    <tr style=\"text-align: right;\">\n",
       "      <th></th>\n",
       "      <th>city</th>\n",
       "      <th>city_development_index</th>\n",
       "      <th>company_type</th>\n",
       "      <th>data</th>\n",
       "      <th>education_level</th>\n",
       "      <th>enrolled_university</th>\n",
       "      <th>enrollee_id</th>\n",
       "      <th>gender</th>\n",
       "      <th>major_discipline</th>\n",
       "      <th>relevent_experience</th>\n",
       "      <th>target</th>\n",
       "      <th>training_hours</th>\n",
       "      <th>experience_level</th>\n",
       "      <th>have_unemployed_years</th>\n",
       "      <th>comp_size</th>\n",
       "    </tr>\n",
       "  </thead>\n",
       "  <tbody>\n",
       "    <tr>\n",
       "      <td>0</td>\n",
       "      <td>city_149</td>\n",
       "      <td>0.689</td>\n",
       "      <td>Pvt Ltd</td>\n",
       "      <td>train</td>\n",
       "      <td>Graduate</td>\n",
       "      <td>no_enrollment</td>\n",
       "      <td>23798</td>\n",
       "      <td>Male</td>\n",
       "      <td>STEM</td>\n",
       "      <td>Has relevent experience</td>\n",
       "      <td>0</td>\n",
       "      <td>106</td>\n",
       "      <td>intermediate</td>\n",
       "      <td>1</td>\n",
       "      <td>mid</td>\n",
       "    </tr>\n",
       "    <tr>\n",
       "      <td>1</td>\n",
       "      <td>city_83</td>\n",
       "      <td>0.923</td>\n",
       "      <td>Funded Startup</td>\n",
       "      <td>train</td>\n",
       "      <td>Graduate</td>\n",
       "      <td>no_enrollment</td>\n",
       "      <td>29166</td>\n",
       "      <td>Male</td>\n",
       "      <td>STEM</td>\n",
       "      <td>Has relevent experience</td>\n",
       "      <td>0</td>\n",
       "      <td>69</td>\n",
       "      <td>mid</td>\n",
       "      <td>1</td>\n",
       "      <td>small</td>\n",
       "    </tr>\n",
       "    <tr>\n",
       "      <td>2</td>\n",
       "      <td>city_16</td>\n",
       "      <td>0.910</td>\n",
       "      <td>Public Sector</td>\n",
       "      <td>train</td>\n",
       "      <td>Graduate</td>\n",
       "      <td>no_enrollment</td>\n",
       "      <td>46</td>\n",
       "      <td>Male</td>\n",
       "      <td>STEM</td>\n",
       "      <td>Has relevent experience</td>\n",
       "      <td>0</td>\n",
       "      <td>4</td>\n",
       "      <td>intermediate</td>\n",
       "      <td>1</td>\n",
       "      <td>small</td>\n",
       "    </tr>\n",
       "    <tr>\n",
       "      <td>3</td>\n",
       "      <td>city_64</td>\n",
       "      <td>0.666</td>\n",
       "      <td>Pvt Ltd</td>\n",
       "      <td>train</td>\n",
       "      <td>Graduate</td>\n",
       "      <td>no_enrollment</td>\n",
       "      <td>18527</td>\n",
       "      <td>Male</td>\n",
       "      <td>STEM</td>\n",
       "      <td>Has relevent experience</td>\n",
       "      <td>0</td>\n",
       "      <td>26</td>\n",
       "      <td>mid</td>\n",
       "      <td>1</td>\n",
       "      <td>small</td>\n",
       "    </tr>\n",
       "    <tr>\n",
       "      <td>4</td>\n",
       "      <td>city_100</td>\n",
       "      <td>0.887</td>\n",
       "      <td>Pvt Ltd</td>\n",
       "      <td>train</td>\n",
       "      <td>Masters</td>\n",
       "      <td>no_enrollment</td>\n",
       "      <td>21751</td>\n",
       "      <td>Male</td>\n",
       "      <td>STEM</td>\n",
       "      <td>No relevent experience</td>\n",
       "      <td>1</td>\n",
       "      <td>88</td>\n",
       "      <td>intermediate</td>\n",
       "      <td>1</td>\n",
       "      <td>mid</td>\n",
       "    </tr>\n",
       "  </tbody>\n",
       "</table>\n",
       "</div>"
      ],
      "text/plain": [
       "       city  city_development_index    company_type   data education_level  \\\n",
       "0  city_149                   0.689         Pvt Ltd  train        Graduate   \n",
       "1   city_83                   0.923  Funded Startup  train        Graduate   \n",
       "2   city_16                   0.910   Public Sector  train        Graduate   \n",
       "3   city_64                   0.666         Pvt Ltd  train        Graduate   \n",
       "4  city_100                   0.887         Pvt Ltd  train         Masters   \n",
       "\n",
       "  enrolled_university  enrollee_id gender major_discipline  \\\n",
       "0       no_enrollment        23798   Male             STEM   \n",
       "1       no_enrollment        29166   Male             STEM   \n",
       "2       no_enrollment           46   Male             STEM   \n",
       "3       no_enrollment        18527   Male             STEM   \n",
       "4       no_enrollment        21751   Male             STEM   \n",
       "\n",
       "       relevent_experience  target  training_hours experience_level  \\\n",
       "0  Has relevent experience       0             106     intermediate   \n",
       "1  Has relevent experience       0              69              mid   \n",
       "2  Has relevent experience       0               4     intermediate   \n",
       "3  Has relevent experience       0              26              mid   \n",
       "4   No relevent experience       1              88     intermediate   \n",
       "\n",
       "   have_unemployed_years comp_size  \n",
       "0                      1       mid  \n",
       "1                      1     small  \n",
       "2                      1     small  \n",
       "3                      1     small  \n",
       "4                      1       mid  "
      ]
     },
     "execution_count": 41,
     "metadata": {},
     "output_type": "execute_result"
    }
   ],
   "source": [
    "df.head()"
   ]
  },
  {
   "cell_type": "code",
   "execution_count": 42,
   "metadata": {},
   "outputs": [
    {
     "name": "stdout",
     "output_type": "stream",
     "text": [
      "<class 'pandas.core.frame.DataFrame'>\n",
      "Int64Index: 33380 entries, 0 to 15020\n",
      "Data columns (total 15 columns):\n",
      "city                      33380 non-null object\n",
      "city_development_index    33380 non-null float64\n",
      "company_type              33380 non-null object\n",
      "data                      33380 non-null object\n",
      "education_level           33380 non-null object\n",
      "enrolled_university       33380 non-null object\n",
      "enrollee_id               33380 non-null int64\n",
      "gender                    33380 non-null object\n",
      "major_discipline          33380 non-null object\n",
      "relevent_experience       33380 non-null object\n",
      "target                    33380 non-null int64\n",
      "training_hours            33380 non-null int64\n",
      "experience_level          33380 non-null object\n",
      "have_unemployed_years     33380 non-null int64\n",
      "comp_size                 33380 non-null object\n",
      "dtypes: float64(1), int64(4), object(10)\n",
      "memory usage: 5.3+ MB\n"
     ]
    }
   ],
   "source": [
    "df.info()"
   ]
  },
  {
   "cell_type": "code",
   "execution_count": 43,
   "metadata": {},
   "outputs": [
    {
     "name": "stdout",
     "output_type": "stream",
     "text": [
      "{'company_type': ['Pvt Ltd', 'Funded Startup', 'Public Sector', 'Early Stage Startup', 'NGO', 'Other'], 'data': ['train', 'test'], 'education_level': ['Graduate', 'Masters', 'High School', 'Phd', 'Primary School'], 'enrolled_university': ['no_enrollment', 'Full time course', 'Part time course'], 'gender': ['Male', 'Female', 'Other'], 'major_discipline': ['STEM', 'Other', 'No Major', 'Business Degree', 'Arts', 'Humanities'], 'relevent_experience': ['Has relevent experience', 'No relevent experience'], 'experience_level': ['intermediate', 'mid', 'senior', 'no'], 'comp_size': ['mid', 'small', 'large']}\n"
     ]
    }
   ],
   "source": [
    "# find unique values for the features\n",
    "\n",
    "cat_col = df.select_dtypes(include='object').columns\n",
    "num_col = df.select_dtypes(exclude='object').columns\n",
    "\n",
    "unique_dict = {i:list(df[i].unique()) for i in cat_col[1:]}\n",
    "print(unique_dict)"
   ]
  },
  {
   "cell_type": "markdown",
   "metadata": {},
   "source": [
    "## Univariate Analysis"
   ]
  },
  {
   "cell_type": "code",
   "execution_count": 59,
   "metadata": {},
   "outputs": [],
   "source": [
    "def build_count_plot(num):\n",
    "    fig = plt.figure(figsize=(20,35))\n",
    "    for i in range(0,len(num)):\n",
    "        fig.add_subplot(len(num),len(num)/4,i+1)\n",
    "        sns.countplot(df[num[i]])\n",
    "    plt.show()"
   ]
  },
  {
   "cell_type": "code",
   "execution_count": 60,
   "metadata": {},
   "outputs": [
    {
     "data": {
      "image/png": "[encoded data removed]",
      "text/plain": [
       "<Figure size 1440x2520 with 9 Axes>"
      ]
     },
     "metadata": {
      "needs_background": "light"
     },
     "output_type": "display_data"
    }
   ],
   "source": [
    "build_count_plot(cat_col[1:])"
   ]
  },
  {
   "cell_type": "markdown",
   "metadata": {},
   "source": [
    "### Inferences:\n",
    "\n",
    "- Most of the enrollees are currently working for a private company\n",
    "- Graduation is the highest qualification/education level among the enrollees.\n",
    "- A large number of candidates who registered have not yet enrolled for any University course\n",
    "- some candidates have enrolled for full time course and a few of them for part time course\n",
    "- Most of the enrollees are Males\n",
    "- Out of all the registered candidates, most of them have relevant experience (intermediate)\n",
    "- Most of them work in a mid-sized company"
   ]
  },
  {
   "cell_type": "code",
   "execution_count": null,
   "metadata": {},
   "outputs": [],
   "source": []
  },
  {
   "cell_type": "code",
   "execution_count": 57,
   "metadata": {},
   "outputs": [],
   "source": [
    "def build_hist_plot(num):\n",
    "    fig = plt.figure(figsize=(15,20))\n",
    "    for i in range(0,len(num)):\n",
    "        fig.add_subplot(len(num),len(num)/2,i+1)\n",
    "        sns.distplot(df[num[i]],kde=False)\n",
    "\n",
    "    plt.show()"
   ]
  },
  {
   "cell_type": "code",
   "execution_count": 58,
   "metadata": {},
   "outputs": [
    {
     "data": {
      "image/png": "[encoded data removed]",
      "text/plain": [
       "<Figure size 1080x1440 with 5 Axes>"
      ]
     },
     "metadata": {
      "needs_background": "light"
     },
     "output_type": "display_data"
    }
   ],
   "source": [
    "build_hist_plot(num_col)"
   ]
  },
  {
   "cell_type": "code",
   "execution_count": null,
   "metadata": {},
   "outputs": [],
   "source": []
  },
  {
   "cell_type": "markdown",
   "metadata": {},
   "source": [
    "## Bivariate Analysis"
   ]
  },
  {
   "cell_type": "code",
   "execution_count": 150,
   "metadata": {},
   "outputs": [
    {
     "data": {
      "image/png": "[encoded data removed]",
      "text/plain": [
       "<Figure size 432x288 with 1 Axes>"
      ]
     },
     "metadata": {
      "needs_background": "light"
     },
     "output_type": "display_data"
    }
   ],
   "source": [
    "sns.barplot(x = df['target'], y = df['training_hours'])\n",
    "plt.show()"
   ]
  },
  {
   "cell_type": "code",
   "execution_count": 151,
   "metadata": {},
   "outputs": [
    {
     "data": {
      "image/png": "[encoded data removed]",
      "text/plain": [
       "<Figure size 432x288 with 1 Axes>"
      ]
     },
     "metadata": {
      "needs_background": "light"
     },
     "output_type": "display_data"
    }
   ],
   "source": [
    "sns.barplot(x = df['target'], y = df['city_development_index'])\n",
    "plt.show()"
   ]
  },
  {
   "cell_type": "code",
   "execution_count": 61,
   "metadata": {},
   "outputs": [],
   "source": [
    "def build_count_plot1(num):\n",
    "    fig = plt.figure(figsize=(25,30))\n",
    "    for i in range(0,len(num)):\n",
    "        fig.add_subplot(len(num),len(num)/3,i+1)\n",
    "        sns.countplot(df[num[i]],hue = df['target'])\n",
    "    plt.show()"
   ]
  },
  {
   "cell_type": "code",
   "execution_count": 62,
   "metadata": {},
   "outputs": [
    {
     "data": {
      "image/png": "[encoded data removed]",
      "text/plain": [
       "<Figure size 1800x2160 with 9 Axes>"
      ]
     },
     "metadata": {
      "needs_background": "light"
     },
     "output_type": "display_data"
    }
   ],
   "source": [
    "build_count_plot1(cat_col[1:])"
   ]
  },
  {
   "cell_type": "markdown",
   "metadata": {},
   "source": [
    "### Inferences:\n",
    "\n",
    "- the candidates looking for a job are:\n",
    "    - Males who are graduated, having major discipline in STEM\n",
    "    - who are not enrolled for any of the university courses\n",
    "    - working for a private, mid-sized company\n",
    "    - have relevant (intermediate level) experience"
   ]
  },
  {
   "cell_type": "code",
   "execution_count": null,
   "metadata": {},
   "outputs": [],
   "source": []
  },
  {
   "cell_type": "markdown",
   "metadata": {},
   "source": [
    "## Statistical Tests\n",
    "\n",
    "#### Chi-square test applied, as the independent as well as dependent variables are categorical"
   ]
  },
  {
   "cell_type": "code",
   "execution_count": 154,
   "metadata": {},
   "outputs": [
    {
     "data": {
      "text/plain": [
       "Index(['city', 'company_type', 'data', 'education_level',\n",
       "       'enrolled_university', 'gender', 'major_discipline',\n",
       "       'relevent_experience', 'experience_level', 'comp_size'],\n",
       "      dtype='object')"
      ]
     },
     "execution_count": 154,
     "metadata": {},
     "output_type": "execute_result"
    }
   ],
   "source": [
    "cat_col"
   ]
  },
  {
   "cell_type": "code",
   "execution_count": 155,
   "metadata": {},
   "outputs": [
    {
     "data": {
      "text/plain": [
       "array([[  955,  1784,   904,   204,  1640, 25468],\n",
       "       [   74,    96,    69,    19,   152,  2015]], dtype=int64)"
      ]
     },
     "execution_count": 155,
     "metadata": {},
     "output_type": "execute_result"
    }
   ],
   "source": [
    "pd.crosstab(df['target'],df['company_type']).values"
   ]
  },
  {
   "cell_type": "code",
   "execution_count": 156,
   "metadata": {},
   "outputs": [
    {
     "name": "stdout",
     "output_type": "stream",
     "text": [
      "0.0033487581007225252\n"
     ]
    }
   ],
   "source": [
    "from scipy.stats import f_oneway,chi2_contingency,ttest_ind,mannwhitneyu\n",
    "\n",
    "stat,p,degf,exp= chi2_contingency(pd.crosstab(df['target'],df['company_type']).values)\n",
    "print(p)"
   ]
  },
  {
   "cell_type": "code",
   "execution_count": 157,
   "metadata": {},
   "outputs": [
    {
     "name": "stdout",
     "output_type": "stream",
     "text": [
      "5.5260689078281796e-14\n"
     ]
    }
   ],
   "source": [
    "stat,p,degf,exp= chi2_contingency(pd.crosstab(df['target'],df['comp_size']).values)\n",
    "print(p)"
   ]
  },
  {
   "cell_type": "code",
   "execution_count": 158,
   "metadata": {},
   "outputs": [
    {
     "name": "stdout",
     "output_type": "stream",
     "text": [
      "4.3173833295775184e-06\n"
     ]
    }
   ],
   "source": [
    "stat,p,degf,exp= chi2_contingency(pd.crosstab(df['target'],df['education_level']).values)\n",
    "print(p)"
   ]
  },
  {
   "cell_type": "code",
   "execution_count": 159,
   "metadata": {},
   "outputs": [
    {
     "name": "stdout",
     "output_type": "stream",
     "text": [
      "6.665057611312498e-27\n"
     ]
    }
   ],
   "source": [
    "stat,p,degf,exp= chi2_contingency(pd.crosstab(df['target'],df['enrolled_university']).values)\n",
    "print(p)"
   ]
  },
  {
   "cell_type": "code",
   "execution_count": 160,
   "metadata": {},
   "outputs": [
    {
     "name": "stdout",
     "output_type": "stream",
     "text": [
      "0.03916125148513629\n"
     ]
    }
   ],
   "source": [
    "stat,p,degf,exp= chi2_contingency(pd.crosstab(df['target'],df['gender']).values)\n",
    "print(p)"
   ]
  },
  {
   "cell_type": "code",
   "execution_count": 161,
   "metadata": {},
   "outputs": [
    {
     "name": "stdout",
     "output_type": "stream",
     "text": [
      "0.14863324378075432\n"
     ]
    }
   ],
   "source": [
    "stat,p,degf,exp= chi2_contingency(pd.crosstab(df['target'],df['major_discipline']).values)\n",
    "print(p)"
   ]
  },
  {
   "cell_type": "code",
   "execution_count": 162,
   "metadata": {},
   "outputs": [
    {
     "name": "stdout",
     "output_type": "stream",
     "text": [
      "7.789440480105131e-22\n"
     ]
    }
   ],
   "source": [
    "stat,p,degf,exp= chi2_contingency(pd.crosstab(df['target'],df['relevent_experience']).values)\n",
    "print(p)"
   ]
  },
  {
   "cell_type": "code",
   "execution_count": 163,
   "metadata": {},
   "outputs": [
    {
     "name": "stdout",
     "output_type": "stream",
     "text": [
      "1.285427409922797e-18\n"
     ]
    }
   ],
   "source": [
    "stat,p,degf,exp= chi2_contingency(pd.crosstab(df['target'],df['experience_level']).values)\n",
    "print(p)"
   ]
  },
  {
   "cell_type": "code",
   "execution_count": 164,
   "metadata": {},
   "outputs": [
    {
     "name": "stdout",
     "output_type": "stream",
     "text": [
      "0.1321096860709287\n"
     ]
    }
   ],
   "source": [
    "stat,p,degf,exp= chi2_contingency(pd.crosstab(df['target'],df['have_unemployed_years']).values)\n",
    "print(p)"
   ]
  },
  {
   "cell_type": "code",
   "execution_count": null,
   "metadata": {},
   "outputs": [],
   "source": []
  },
  {
   "cell_type": "markdown",
   "metadata": {},
   "source": [
    "### Two-sample ttest applied for some numerical independent variables"
   ]
  },
  {
   "cell_type": "code",
   "execution_count": 165,
   "metadata": {},
   "outputs": [],
   "source": [
    "num_col = num_col.tolist()"
   ]
  },
  {
   "cell_type": "code",
   "execution_count": 166,
   "metadata": {},
   "outputs": [
    {
     "data": {
      "text/plain": [
       "['city_development_index',\n",
       " 'enrollee_id',\n",
       " 'target',\n",
       " 'training_hours',\n",
       " 'have_unemployed_years']"
      ]
     },
     "execution_count": 166,
     "metadata": {},
     "output_type": "execute_result"
    }
   ],
   "source": [
    "num_col"
   ]
  },
  {
   "cell_type": "code",
   "execution_count": 167,
   "metadata": {},
   "outputs": [],
   "source": [
    "num_col.remove('enrollee_id')"
   ]
  },
  {
   "cell_type": "code",
   "execution_count": 168,
   "metadata": {},
   "outputs": [],
   "source": [
    "num_col.remove('have_unemployed_years')"
   ]
  },
  {
   "cell_type": "code",
   "execution_count": 169,
   "metadata": {},
   "outputs": [],
   "source": [
    "def ttest_ind_test(arr):\n",
    "    for i in arr:\n",
    "            cl0 = df[df['target']==0][i]\n",
    "            cl1 = df[df['target']==1][i]\n",
    "            t, p = ttest_ind(cl0,cl1)\n",
    "            print(i,p)"
   ]
  },
  {
   "cell_type": "code",
   "execution_count": 170,
   "metadata": {},
   "outputs": [
    {
     "name": "stdout",
     "output_type": "stream",
     "text": [
      "city_development_index 1.2452028415248337e-70\n",
      "target 0.0\n",
      "training_hours 0.7311263447272791\n"
     ]
    }
   ],
   "source": [
    "ttest_ind_test(num_col)"
   ]
  },
  {
   "cell_type": "markdown",
   "metadata": {},
   "source": [
    "## Inference:\n",
    "\n",
    "- From the above pvalues obtained from chisqure test and two sample independent ttest it is evident that, major discipline, have_unemployed_years and training hours does not have any relationship with the target variable"
   ]
  },
  {
   "cell_type": "code",
   "execution_count": 63,
   "metadata": {},
   "outputs": [],
   "source": [
    "df = df.drop(['major_discipline','have_unemployed_years','training_hours'], axis = 1)"
   ]
  },
  {
   "cell_type": "code",
   "execution_count": 64,
   "metadata": {},
   "outputs": [],
   "source": [
    "df = df.drop(['city'], axis = 1)"
   ]
  },
  {
   "cell_type": "code",
   "execution_count": 65,
   "metadata": {},
   "outputs": [
    {
     "data": {
      "text/plain": [
       "(33380, 11)"
      ]
     },
     "execution_count": 65,
     "metadata": {},
     "output_type": "execute_result"
    }
   ],
   "source": [
    "df.shape"
   ]
  },
  {
   "cell_type": "code",
   "execution_count": 66,
   "metadata": {},
   "outputs": [
    {
     "data": {
      "text/plain": [
       "Index(['city_development_index', 'company_type', 'data', 'education_level',\n",
       "       'enrolled_university', 'enrollee_id', 'gender', 'relevent_experience',\n",
       "       'target', 'experience_level', 'comp_size'],\n",
       "      dtype='object')"
      ]
     },
     "execution_count": 66,
     "metadata": {},
     "output_type": "execute_result"
    }
   ],
   "source": [
    "df.columns"
   ]
  },
  {
   "cell_type": "markdown",
   "metadata": {},
   "source": [
    "## Converting categorical to numerical \n",
    "\n",
    "#### One-hot encoding of categorical variables"
   ]
  },
  {
   "cell_type": "code",
   "execution_count": 69,
   "metadata": {},
   "outputs": [],
   "source": [
    "ndf = pd.get_dummies(df,columns=['company_type','education_level','enrolled_university', 'gender', \n",
    "                                 'relevent_experience','experience_level', 'comp_size'],\n",
    "                     prefix=['CT','EL','EU','G','RE','EL','CS'],drop_first=True)"
   ]
  },
  {
   "cell_type": "code",
   "execution_count": 70,
   "metadata": {},
   "outputs": [
    {
     "data": {
      "text/plain": [
       "(33380, 23)"
      ]
     },
     "execution_count": 70,
     "metadata": {},
     "output_type": "execute_result"
    }
   ],
   "source": [
    "ndf.shape"
   ]
  },
  {
   "cell_type": "code",
   "execution_count": 71,
   "metadata": {},
   "outputs": [
    {
     "data": {
      "text/html": [
       "<div>\n",
       "<style scoped>\n",
       "    .dataframe tbody tr th:only-of-type {\n",
       "        vertical-align: middle;\n",
       "    }\n",
       "\n",
       "    .dataframe tbody tr th {\n",
       "        vertical-align: top;\n",
       "    }\n",
       "\n",
       "    .dataframe thead th {\n",
       "        text-align: right;\n",
       "    }\n",
       "</style>\n",
       "<table border=\"1\" class=\"dataframe\">\n",
       "  <thead>\n",
       "    <tr style=\"text-align: right;\">\n",
       "      <th></th>\n",
       "      <th>city_development_index</th>\n",
       "      <th>data</th>\n",
       "      <th>enrollee_id</th>\n",
       "      <th>target</th>\n",
       "      <th>CT_Funded Startup</th>\n",
       "      <th>CT_NGO</th>\n",
       "      <th>CT_Other</th>\n",
       "      <th>CT_Public Sector</th>\n",
       "      <th>CT_Pvt Ltd</th>\n",
       "      <th>EL_High School</th>\n",
       "      <th>...</th>\n",
       "      <th>EU_Part time course</th>\n",
       "      <th>EU_no_enrollment</th>\n",
       "      <th>G_Male</th>\n",
       "      <th>G_Other</th>\n",
       "      <th>RE_No relevent experience</th>\n",
       "      <th>EL_mid</th>\n",
       "      <th>EL_no</th>\n",
       "      <th>EL_senior</th>\n",
       "      <th>CS_mid</th>\n",
       "      <th>CS_small</th>\n",
       "    </tr>\n",
       "  </thead>\n",
       "  <tbody>\n",
       "    <tr>\n",
       "      <td>0</td>\n",
       "      <td>0.689</td>\n",
       "      <td>train</td>\n",
       "      <td>23798</td>\n",
       "      <td>0</td>\n",
       "      <td>0</td>\n",
       "      <td>0</td>\n",
       "      <td>0</td>\n",
       "      <td>0</td>\n",
       "      <td>1</td>\n",
       "      <td>0</td>\n",
       "      <td>...</td>\n",
       "      <td>0</td>\n",
       "      <td>1</td>\n",
       "      <td>1</td>\n",
       "      <td>0</td>\n",
       "      <td>0</td>\n",
       "      <td>0</td>\n",
       "      <td>0</td>\n",
       "      <td>0</td>\n",
       "      <td>1</td>\n",
       "      <td>0</td>\n",
       "    </tr>\n",
       "    <tr>\n",
       "      <td>1</td>\n",
       "      <td>0.923</td>\n",
       "      <td>train</td>\n",
       "      <td>29166</td>\n",
       "      <td>0</td>\n",
       "      <td>1</td>\n",
       "      <td>0</td>\n",
       "      <td>0</td>\n",
       "      <td>0</td>\n",
       "      <td>0</td>\n",
       "      <td>0</td>\n",
       "      <td>...</td>\n",
       "      <td>0</td>\n",
       "      <td>1</td>\n",
       "      <td>1</td>\n",
       "      <td>0</td>\n",
       "      <td>0</td>\n",
       "      <td>1</td>\n",
       "      <td>0</td>\n",
       "      <td>0</td>\n",
       "      <td>0</td>\n",
       "      <td>1</td>\n",
       "    </tr>\n",
       "    <tr>\n",
       "      <td>2</td>\n",
       "      <td>0.910</td>\n",
       "      <td>train</td>\n",
       "      <td>46</td>\n",
       "      <td>0</td>\n",
       "      <td>0</td>\n",
       "      <td>0</td>\n",
       "      <td>0</td>\n",
       "      <td>1</td>\n",
       "      <td>0</td>\n",
       "      <td>0</td>\n",
       "      <td>...</td>\n",
       "      <td>0</td>\n",
       "      <td>1</td>\n",
       "      <td>1</td>\n",
       "      <td>0</td>\n",
       "      <td>0</td>\n",
       "      <td>0</td>\n",
       "      <td>0</td>\n",
       "      <td>0</td>\n",
       "      <td>0</td>\n",
       "      <td>1</td>\n",
       "    </tr>\n",
       "    <tr>\n",
       "      <td>3</td>\n",
       "      <td>0.666</td>\n",
       "      <td>train</td>\n",
       "      <td>18527</td>\n",
       "      <td>0</td>\n",
       "      <td>0</td>\n",
       "      <td>0</td>\n",
       "      <td>0</td>\n",
       "      <td>0</td>\n",
       "      <td>1</td>\n",
       "      <td>0</td>\n",
       "      <td>...</td>\n",
       "      <td>0</td>\n",
       "      <td>1</td>\n",
       "      <td>1</td>\n",
       "      <td>0</td>\n",
       "      <td>0</td>\n",
       "      <td>1</td>\n",
       "      <td>0</td>\n",
       "      <td>0</td>\n",
       "      <td>0</td>\n",
       "      <td>1</td>\n",
       "    </tr>\n",
       "    <tr>\n",
       "      <td>4</td>\n",
       "      <td>0.887</td>\n",
       "      <td>train</td>\n",
       "      <td>21751</td>\n",
       "      <td>1</td>\n",
       "      <td>0</td>\n",
       "      <td>0</td>\n",
       "      <td>0</td>\n",
       "      <td>0</td>\n",
       "      <td>1</td>\n",
       "      <td>0</td>\n",
       "      <td>...</td>\n",
       "      <td>0</td>\n",
       "      <td>1</td>\n",
       "      <td>1</td>\n",
       "      <td>0</td>\n",
       "      <td>1</td>\n",
       "      <td>0</td>\n",
       "      <td>0</td>\n",
       "      <td>0</td>\n",
       "      <td>1</td>\n",
       "      <td>0</td>\n",
       "    </tr>\n",
       "  </tbody>\n",
       "</table>\n",
       "<p>5 rows × 23 columns</p>\n",
       "</div>"
      ],
      "text/plain": [
       "   city_development_index   data  enrollee_id  target  CT_Funded Startup  \\\n",
       "0                   0.689  train        23798       0                  0   \n",
       "1                   0.923  train        29166       0                  1   \n",
       "2                   0.910  train           46       0                  0   \n",
       "3                   0.666  train        18527       0                  0   \n",
       "4                   0.887  train        21751       1                  0   \n",
       "\n",
       "   CT_NGO  CT_Other  CT_Public Sector  CT_Pvt Ltd  EL_High School  ...  \\\n",
       "0       0         0                 0           1               0  ...   \n",
       "1       0         0                 0           0               0  ...   \n",
       "2       0         0                 1           0               0  ...   \n",
       "3       0         0                 0           1               0  ...   \n",
       "4       0         0                 0           1               0  ...   \n",
       "\n",
       "   EU_Part time course  EU_no_enrollment  G_Male  G_Other  \\\n",
       "0                    0                 1       1        0   \n",
       "1                    0                 1       1        0   \n",
       "2                    0                 1       1        0   \n",
       "3                    0                 1       1        0   \n",
       "4                    0                 1       1        0   \n",
       "\n",
       "   RE_No relevent experience  EL_mid  EL_no  EL_senior  CS_mid  CS_small  \n",
       "0                          0       0      0          0       1         0  \n",
       "1                          0       1      0          0       0         1  \n",
       "2                          0       0      0          0       0         1  \n",
       "3                          0       1      0          0       0         1  \n",
       "4                          1       0      0          0       1         0  \n",
       "\n",
       "[5 rows x 23 columns]"
      ]
     },
     "execution_count": 71,
     "metadata": {},
     "output_type": "execute_result"
    }
   ],
   "source": [
    "ndf.head()"
   ]
  },
  {
   "cell_type": "code",
   "execution_count": null,
   "metadata": {},
   "outputs": [],
   "source": []
  },
  {
   "cell_type": "code",
   "execution_count": null,
   "metadata": {},
   "outputs": [],
   "source": []
  },
  {
   "cell_type": "markdown",
   "metadata": {},
   "source": [
    "## Finally, Separating the train and validation data for modelling"
   ]
  },
  {
   "cell_type": "code",
   "execution_count": 72,
   "metadata": {},
   "outputs": [],
   "source": [
    "train_df = ndf[ndf['data']=='train']"
   ]
  },
  {
   "cell_type": "code",
   "execution_count": 74,
   "metadata": {},
   "outputs": [
    {
     "data": {
      "text/plain": [
       "Index(['city_development_index', 'data', 'enrollee_id', 'target',\n",
       "       'CT_Funded Startup', 'CT_NGO', 'CT_Other', 'CT_Public Sector',\n",
       "       'CT_Pvt Ltd', 'EL_High School', 'EL_Masters', 'EL_Phd',\n",
       "       'EL_Primary School', 'EU_Part time course', 'EU_no_enrollment',\n",
       "       'G_Male', 'G_Other', 'RE_No relevent experience', 'EL_mid', 'EL_no',\n",
       "       'EL_senior', 'CS_mid', 'CS_small'],\n",
       "      dtype='object')"
      ]
     },
     "execution_count": 74,
     "metadata": {},
     "output_type": "execute_result"
    }
   ],
   "source": [
    "train_df.columns"
   ]
  },
  {
   "cell_type": "code",
   "execution_count": 76,
   "metadata": {},
   "outputs": [],
   "source": [
    "train_df = train_df.drop(['data','enrollee_id'], axis = 1)"
   ]
  },
  {
   "cell_type": "code",
   "execution_count": 77,
   "metadata": {},
   "outputs": [],
   "source": [
    "test_df = ndf[ndf['data']=='test']"
   ]
  },
  {
   "cell_type": "code",
   "execution_count": 79,
   "metadata": {},
   "outputs": [
    {
     "data": {
      "text/plain": [
       "Index(['city_development_index', 'data', 'enrollee_id', 'target',\n",
       "       'CT_Funded Startup', 'CT_NGO', 'CT_Other', 'CT_Public Sector',\n",
       "       'CT_Pvt Ltd', 'EL_High School', 'EL_Masters', 'EL_Phd',\n",
       "       'EL_Primary School', 'EU_Part time course', 'EU_no_enrollment',\n",
       "       'G_Male', 'G_Other', 'RE_No relevent experience', 'EL_mid', 'EL_no',\n",
       "       'EL_senior', 'CS_mid', 'CS_small'],\n",
       "      dtype='object')"
      ]
     },
     "execution_count": 79,
     "metadata": {},
     "output_type": "execute_result"
    }
   ],
   "source": [
    "test_df.columns"
   ]
  },
  {
   "cell_type": "code",
   "execution_count": 81,
   "metadata": {},
   "outputs": [],
   "source": [
    "test_df = test_df.drop(['data','enrollee_id','target'], axis = 1)"
   ]
  },
  {
   "cell_type": "code",
   "execution_count": 84,
   "metadata": {},
   "outputs": [
    {
     "data": {
      "text/html": [
       "<div>\n",
       "<style scoped>\n",
       "    .dataframe tbody tr th:only-of-type {\n",
       "        vertical-align: middle;\n",
       "    }\n",
       "\n",
       "    .dataframe tbody tr th {\n",
       "        vertical-align: top;\n",
       "    }\n",
       "\n",
       "    .dataframe thead th {\n",
       "        text-align: right;\n",
       "    }\n",
       "</style>\n",
       "<table border=\"1\" class=\"dataframe\">\n",
       "  <thead>\n",
       "    <tr style=\"text-align: right;\">\n",
       "      <th></th>\n",
       "      <th>city_development_index</th>\n",
       "      <th>target</th>\n",
       "      <th>CT_Funded Startup</th>\n",
       "      <th>CT_NGO</th>\n",
       "      <th>CT_Other</th>\n",
       "      <th>CT_Public Sector</th>\n",
       "      <th>CT_Pvt Ltd</th>\n",
       "      <th>EL_High School</th>\n",
       "      <th>EL_Masters</th>\n",
       "      <th>EL_Phd</th>\n",
       "      <th>...</th>\n",
       "      <th>EU_Part time course</th>\n",
       "      <th>EU_no_enrollment</th>\n",
       "      <th>G_Male</th>\n",
       "      <th>G_Other</th>\n",
       "      <th>RE_No relevent experience</th>\n",
       "      <th>EL_mid</th>\n",
       "      <th>EL_no</th>\n",
       "      <th>EL_senior</th>\n",
       "      <th>CS_mid</th>\n",
       "      <th>CS_small</th>\n",
       "    </tr>\n",
       "  </thead>\n",
       "  <tbody>\n",
       "    <tr>\n",
       "      <td>0</td>\n",
       "      <td>0.689</td>\n",
       "      <td>0</td>\n",
       "      <td>0</td>\n",
       "      <td>0</td>\n",
       "      <td>0</td>\n",
       "      <td>0</td>\n",
       "      <td>1</td>\n",
       "      <td>0</td>\n",
       "      <td>0</td>\n",
       "      <td>0</td>\n",
       "      <td>...</td>\n",
       "      <td>0</td>\n",
       "      <td>1</td>\n",
       "      <td>1</td>\n",
       "      <td>0</td>\n",
       "      <td>0</td>\n",
       "      <td>0</td>\n",
       "      <td>0</td>\n",
       "      <td>0</td>\n",
       "      <td>1</td>\n",
       "      <td>0</td>\n",
       "    </tr>\n",
       "    <tr>\n",
       "      <td>1</td>\n",
       "      <td>0.923</td>\n",
       "      <td>0</td>\n",
       "      <td>1</td>\n",
       "      <td>0</td>\n",
       "      <td>0</td>\n",
       "      <td>0</td>\n",
       "      <td>0</td>\n",
       "      <td>0</td>\n",
       "      <td>0</td>\n",
       "      <td>0</td>\n",
       "      <td>...</td>\n",
       "      <td>0</td>\n",
       "      <td>1</td>\n",
       "      <td>1</td>\n",
       "      <td>0</td>\n",
       "      <td>0</td>\n",
       "      <td>1</td>\n",
       "      <td>0</td>\n",
       "      <td>0</td>\n",
       "      <td>0</td>\n",
       "      <td>1</td>\n",
       "    </tr>\n",
       "    <tr>\n",
       "      <td>2</td>\n",
       "      <td>0.910</td>\n",
       "      <td>0</td>\n",
       "      <td>0</td>\n",
       "      <td>0</td>\n",
       "      <td>0</td>\n",
       "      <td>1</td>\n",
       "      <td>0</td>\n",
       "      <td>0</td>\n",
       "      <td>0</td>\n",
       "      <td>0</td>\n",
       "      <td>...</td>\n",
       "      <td>0</td>\n",
       "      <td>1</td>\n",
       "      <td>1</td>\n",
       "      <td>0</td>\n",
       "      <td>0</td>\n",
       "      <td>0</td>\n",
       "      <td>0</td>\n",
       "      <td>0</td>\n",
       "      <td>0</td>\n",
       "      <td>1</td>\n",
       "    </tr>\n",
       "    <tr>\n",
       "      <td>3</td>\n",
       "      <td>0.666</td>\n",
       "      <td>0</td>\n",
       "      <td>0</td>\n",
       "      <td>0</td>\n",
       "      <td>0</td>\n",
       "      <td>0</td>\n",
       "      <td>1</td>\n",
       "      <td>0</td>\n",
       "      <td>0</td>\n",
       "      <td>0</td>\n",
       "      <td>...</td>\n",
       "      <td>0</td>\n",
       "      <td>1</td>\n",
       "      <td>1</td>\n",
       "      <td>0</td>\n",
       "      <td>0</td>\n",
       "      <td>1</td>\n",
       "      <td>0</td>\n",
       "      <td>0</td>\n",
       "      <td>0</td>\n",
       "      <td>1</td>\n",
       "    </tr>\n",
       "    <tr>\n",
       "      <td>4</td>\n",
       "      <td>0.887</td>\n",
       "      <td>1</td>\n",
       "      <td>0</td>\n",
       "      <td>0</td>\n",
       "      <td>0</td>\n",
       "      <td>0</td>\n",
       "      <td>1</td>\n",
       "      <td>0</td>\n",
       "      <td>1</td>\n",
       "      <td>0</td>\n",
       "      <td>...</td>\n",
       "      <td>0</td>\n",
       "      <td>1</td>\n",
       "      <td>1</td>\n",
       "      <td>0</td>\n",
       "      <td>1</td>\n",
       "      <td>0</td>\n",
       "      <td>0</td>\n",
       "      <td>0</td>\n",
       "      <td>1</td>\n",
       "      <td>0</td>\n",
       "    </tr>\n",
       "  </tbody>\n",
       "</table>\n",
       "<p>5 rows × 21 columns</p>\n",
       "</div>"
      ],
      "text/plain": [
       "   city_development_index  target  CT_Funded Startup  CT_NGO  CT_Other  \\\n",
       "0                   0.689       0                  0       0         0   \n",
       "1                   0.923       0                  1       0         0   \n",
       "2                   0.910       0                  0       0         0   \n",
       "3                   0.666       0                  0       0         0   \n",
       "4                   0.887       1                  0       0         0   \n",
       "\n",
       "   CT_Public Sector  CT_Pvt Ltd  EL_High School  EL_Masters  EL_Phd  ...  \\\n",
       "0                 0           1               0           0       0  ...   \n",
       "1                 0           0               0           0       0  ...   \n",
       "2                 1           0               0           0       0  ...   \n",
       "3                 0           1               0           0       0  ...   \n",
       "4                 0           1               0           1       0  ...   \n",
       "\n",
       "   EU_Part time course  EU_no_enrollment  G_Male  G_Other  \\\n",
       "0                    0                 1       1        0   \n",
       "1                    0                 1       1        0   \n",
       "2                    0                 1       1        0   \n",
       "3                    0                 1       1        0   \n",
       "4                    0                 1       1        0   \n",
       "\n",
       "   RE_No relevent experience  EL_mid  EL_no  EL_senior  CS_mid  CS_small  \n",
       "0                          0       0      0          0       1         0  \n",
       "1                          0       1      0          0       0         1  \n",
       "2                          0       0      0          0       0         1  \n",
       "3                          0       1      0          0       0         1  \n",
       "4                          1       0      0          0       1         0  \n",
       "\n",
       "[5 rows x 21 columns]"
      ]
     },
     "execution_count": 84,
     "metadata": {},
     "output_type": "execute_result"
    }
   ],
   "source": [
    "train_df.head()"
   ]
  },
  {
   "cell_type": "markdown",
   "metadata": {},
   "source": [
    "### Saving the data for further use"
   ]
  },
  {
   "cell_type": "code",
   "execution_count": 87,
   "metadata": {},
   "outputs": [],
   "source": [
    "train_df.to_csv('E:/Data Science/Competitions/data/JantaHack_HR_Analytics/final_train.csv', index = False)"
   ]
  },
  {
   "cell_type": "code",
   "execution_count": 88,
   "metadata": {},
   "outputs": [],
   "source": [
    "test_df.to_csv('E:/Data Science/Competitions/data/JantaHack_HR_Analytics/final_test.csv', index = False)"
   ]
  },
  {
   "cell_type": "code",
   "execution_count": null,
   "metadata": {},
   "outputs": [],
   "source": []
  }
 ],
 "metadata": {
  "kernelspec": {
   "display_name": "Python 3",
   "language": "python",
   "name": "python3"
  },
  "language_info": {
   "codemirror_mode": {
    "name": "ipython",
    "version": 3
   },
   "file_extension": ".py",
   "mimetype": "text/x-python",
   "name": "python",
   "nbconvert_exporter": "python",
   "pygments_lexer": "ipython3",
   "version": "3.7.4"
  }
 },
 "nbformat": 4,
 "nbformat_minor": 2
}
