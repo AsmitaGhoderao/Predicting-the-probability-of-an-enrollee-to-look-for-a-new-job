{
 "cells": [
  {
   "cell_type": "code",
   "execution_count": 1,
   "metadata": {},
   "outputs": [],
   "source": [
    "import pandas as pd\n",
    "import numpy as np\n",
    "import matplotlib.pyplot as plt\n",
    "import seaborn as sns\n",
    "\n",
    "from sklearn.preprocessing import StandardScaler\n",
    "from sklearn.model_selection import train_test_split, cross_validate\n",
    "from sklearn import model_selection\n",
    "from sklearn.model_selection import GridSearchCV, RandomizedSearchCV\n",
    "from sklearn.linear_model import LogisticRegression\n",
    "from sklearn.neighbors import KNeighborsClassifier\n",
    "from sklearn.tree import DecisionTreeClassifier\n",
    "from sklearn.ensemble import RandomForestClassifier,AdaBoostClassifier,BaggingClassifier,GradientBoostingClassifier\n",
    "from xgboost import XGBClassifier\n",
    "from sklearn.metrics import accuracy_score,confusion_matrix, classification_report, f1_score,roc_auc_score, roc_curve, auc, precision_score, recall_score\n",
    "\n",
    "import os\n",
    "os.chdir('E:/Data Science/Competitions/data/JantaHack_HR_Analytics')\n",
    "\n",
    "import warnings\n",
    "from sklearn.exceptions import DataConversionWarning\n",
    "warnings.filterwarnings(action='ignore',category= DataConversionWarning)\n",
    "warnings.simplefilter(action='ignore',category=FutureWarning)"
   ]
  },
  {
   "cell_type": "code",
   "execution_count": 2,
   "metadata": {},
   "outputs": [],
   "source": [
    "df = pd.read_csv('final_train.csv')"
   ]
  },
  {
   "cell_type": "code",
   "execution_count": 3,
   "metadata": {},
   "outputs": [
    {
     "data": {
      "text/html": [
       "<div>\n",
       "<style scoped>\n",
       "    .dataframe tbody tr th:only-of-type {\n",
       "        vertical-align: middle;\n",
       "    }\n",
       "\n",
       "    .dataframe tbody tr th {\n",
       "        vertical-align: top;\n",
       "    }\n",
       "\n",
       "    .dataframe thead th {\n",
       "        text-align: right;\n",
       "    }\n",
       "</style>\n",
       "<table border=\"1\" class=\"dataframe\">\n",
       "  <thead>\n",
       "    <tr style=\"text-align: right;\">\n",
       "      <th></th>\n",
       "      <th>city_development_index</th>\n",
       "      <th>target</th>\n",
       "      <th>CT_Funded Startup</th>\n",
       "      <th>CT_NGO</th>\n",
       "      <th>CT_Other</th>\n",
       "      <th>CT_Public Sector</th>\n",
       "      <th>CT_Pvt Ltd</th>\n",
       "      <th>EL_High School</th>\n",
       "      <th>EL_Masters</th>\n",
       "      <th>EL_Phd</th>\n",
       "      <th>...</th>\n",
       "      <th>EU_Part time course</th>\n",
       "      <th>EU_no_enrollment</th>\n",
       "      <th>G_Male</th>\n",
       "      <th>G_Other</th>\n",
       "      <th>RE_No relevent experience</th>\n",
       "      <th>EL_mid</th>\n",
       "      <th>EL_no</th>\n",
       "      <th>EL_senior</th>\n",
       "      <th>CS_mid</th>\n",
       "      <th>CS_small</th>\n",
       "    </tr>\n",
       "  </thead>\n",
       "  <tbody>\n",
       "    <tr>\n",
       "      <td>0</td>\n",
       "      <td>0.689</td>\n",
       "      <td>0</td>\n",
       "      <td>0</td>\n",
       "      <td>0</td>\n",
       "      <td>0</td>\n",
       "      <td>0</td>\n",
       "      <td>1</td>\n",
       "      <td>0</td>\n",
       "      <td>0</td>\n",
       "      <td>0</td>\n",
       "      <td>...</td>\n",
       "      <td>0</td>\n",
       "      <td>1</td>\n",
       "      <td>1</td>\n",
       "      <td>0</td>\n",
       "      <td>0</td>\n",
       "      <td>0</td>\n",
       "      <td>0</td>\n",
       "      <td>0</td>\n",
       "      <td>1</td>\n",
       "      <td>0</td>\n",
       "    </tr>\n",
       "    <tr>\n",
       "      <td>1</td>\n",
       "      <td>0.923</td>\n",
       "      <td>0</td>\n",
       "      <td>1</td>\n",
       "      <td>0</td>\n",
       "      <td>0</td>\n",
       "      <td>0</td>\n",
       "      <td>0</td>\n",
       "      <td>0</td>\n",
       "      <td>0</td>\n",
       "      <td>0</td>\n",
       "      <td>...</td>\n",
       "      <td>0</td>\n",
       "      <td>1</td>\n",
       "      <td>1</td>\n",
       "      <td>0</td>\n",
       "      <td>0</td>\n",
       "      <td>1</td>\n",
       "      <td>0</td>\n",
       "      <td>0</td>\n",
       "      <td>0</td>\n",
       "      <td>1</td>\n",
       "    </tr>\n",
       "    <tr>\n",
       "      <td>2</td>\n",
       "      <td>0.910</td>\n",
       "      <td>0</td>\n",
       "      <td>0</td>\n",
       "      <td>0</td>\n",
       "      <td>0</td>\n",
       "      <td>1</td>\n",
       "      <td>0</td>\n",
       "      <td>0</td>\n",
       "      <td>0</td>\n",
       "      <td>0</td>\n",
       "      <td>...</td>\n",
       "      <td>0</td>\n",
       "      <td>1</td>\n",
       "      <td>1</td>\n",
       "      <td>0</td>\n",
       "      <td>0</td>\n",
       "      <td>0</td>\n",
       "      <td>0</td>\n",
       "      <td>0</td>\n",
       "      <td>0</td>\n",
       "      <td>1</td>\n",
       "    </tr>\n",
       "    <tr>\n",
       "      <td>3</td>\n",
       "      <td>0.666</td>\n",
       "      <td>0</td>\n",
       "      <td>0</td>\n",
       "      <td>0</td>\n",
       "      <td>0</td>\n",
       "      <td>0</td>\n",
       "      <td>1</td>\n",
       "      <td>0</td>\n",
       "      <td>0</td>\n",
       "      <td>0</td>\n",
       "      <td>...</td>\n",
       "      <td>0</td>\n",
       "      <td>1</td>\n",
       "      <td>1</td>\n",
       "      <td>0</td>\n",
       "      <td>0</td>\n",
       "      <td>1</td>\n",
       "      <td>0</td>\n",
       "      <td>0</td>\n",
       "      <td>0</td>\n",
       "      <td>1</td>\n",
       "    </tr>\n",
       "    <tr>\n",
       "      <td>4</td>\n",
       "      <td>0.887</td>\n",
       "      <td>1</td>\n",
       "      <td>0</td>\n",
       "      <td>0</td>\n",
       "      <td>0</td>\n",
       "      <td>0</td>\n",
       "      <td>1</td>\n",
       "      <td>0</td>\n",
       "      <td>1</td>\n",
       "      <td>0</td>\n",
       "      <td>...</td>\n",
       "      <td>0</td>\n",
       "      <td>1</td>\n",
       "      <td>1</td>\n",
       "      <td>0</td>\n",
       "      <td>1</td>\n",
       "      <td>0</td>\n",
       "      <td>0</td>\n",
       "      <td>0</td>\n",
       "      <td>1</td>\n",
       "      <td>0</td>\n",
       "    </tr>\n",
       "  </tbody>\n",
       "</table>\n",
       "<p>5 rows × 21 columns</p>\n",
       "</div>"
      ],
      "text/plain": [
       "   city_development_index  target  CT_Funded Startup  CT_NGO  CT_Other  \\\n",
       "0                   0.689       0                  0       0         0   \n",
       "1                   0.923       0                  1       0         0   \n",
       "2                   0.910       0                  0       0         0   \n",
       "3                   0.666       0                  0       0         0   \n",
       "4                   0.887       1                  0       0         0   \n",
       "\n",
       "   CT_Public Sector  CT_Pvt Ltd  EL_High School  EL_Masters  EL_Phd  ...  \\\n",
       "0                 0           1               0           0       0  ...   \n",
       "1                 0           0               0           0       0  ...   \n",
       "2                 1           0               0           0       0  ...   \n",
       "3                 0           1               0           0       0  ...   \n",
       "4                 0           1               0           1       0  ...   \n",
       "\n",
       "   EU_Part time course  EU_no_enrollment  G_Male  G_Other  \\\n",
       "0                    0                 1       1        0   \n",
       "1                    0                 1       1        0   \n",
       "2                    0                 1       1        0   \n",
       "3                    0                 1       1        0   \n",
       "4                    0                 1       1        0   \n",
       "\n",
       "   RE_No relevent experience  EL_mid  EL_no  EL_senior  CS_mid  CS_small  \n",
       "0                          0       0      0          0       1         0  \n",
       "1                          0       1      0          0       0         1  \n",
       "2                          0       0      0          0       0         1  \n",
       "3                          0       1      0          0       0         1  \n",
       "4                          1       0      0          0       1         0  \n",
       "\n",
       "[5 rows x 21 columns]"
      ]
     },
     "execution_count": 3,
     "metadata": {},
     "output_type": "execute_result"
    }
   ],
   "source": [
    "df.head()"
   ]
  },
  {
   "cell_type": "code",
   "execution_count": 4,
   "metadata": {},
   "outputs": [
    {
     "name": "stdout",
     "output_type": "stream",
     "text": [
      "<class 'pandas.core.frame.DataFrame'>\n",
      "RangeIndex: 18359 entries, 0 to 18358\n",
      "Data columns (total 21 columns):\n",
      "city_development_index       18359 non-null float64\n",
      "target                       18359 non-null int64\n",
      "CT_Funded Startup            18359 non-null int64\n",
      "CT_NGO                       18359 non-null int64\n",
      "CT_Other                     18359 non-null int64\n",
      "CT_Public Sector             18359 non-null int64\n",
      "CT_Pvt Ltd                   18359 non-null int64\n",
      "EL_High School               18359 non-null int64\n",
      "EL_Masters                   18359 non-null int64\n",
      "EL_Phd                       18359 non-null int64\n",
      "EL_Primary School            18359 non-null int64\n",
      "EU_Part time course          18359 non-null int64\n",
      "EU_no_enrollment             18359 non-null int64\n",
      "G_Male                       18359 non-null int64\n",
      "G_Other                      18359 non-null int64\n",
      "RE_No relevent experience    18359 non-null int64\n",
      "EL_mid                       18359 non-null int64\n",
      "EL_no                        18359 non-null int64\n",
      "EL_senior                    18359 non-null int64\n",
      "CS_mid                       18359 non-null int64\n",
      "CS_small                     18359 non-null int64\n",
      "dtypes: float64(1), int64(20)\n",
      "memory usage: 2.9 MB\n"
     ]
    }
   ],
   "source": [
    "df.info()"
   ]
  },
  {
   "cell_type": "code",
   "execution_count": 5,
   "metadata": {},
   "outputs": [
    {
     "data": {
      "text/plain": [
       "0    15934\n",
       "1     2425\n",
       "Name: target, dtype: int64"
      ]
     },
     "execution_count": 5,
     "metadata": {},
     "output_type": "execute_result"
    }
   ],
   "source": [
    "df['target'].value_counts()"
   ]
  },
  {
   "cell_type": "code",
   "execution_count": 6,
   "metadata": {},
   "outputs": [
    {
     "data": {
      "text/plain": [
       "(18359, 21)"
      ]
     },
     "execution_count": 6,
     "metadata": {},
     "output_type": "execute_result"
    }
   ],
   "source": [
    "df.shape"
   ]
  },
  {
   "cell_type": "markdown",
   "metadata": {},
   "source": [
    "## Custom Functions"
   ]
  },
  {
   "cell_type": "code",
   "execution_count": 7,
   "metadata": {},
   "outputs": [],
   "source": [
    "# train test split\n",
    "def perform_train_test_split(x,y,size):\n",
    "    return train_test_split(x, y, test_size = size, random_state = 0)\n",
    "\n",
    "# function for scaling the data for train test split\n",
    "def std_data(xtrain,xtest):\n",
    "    sc = StandardScaler()\n",
    "    scaled = sc.fit(xtrain)\n",
    "    scaled_train = sc.transform(xtrain)\n",
    "    scaled_test = sc.transform(xtest)\n",
    "    return scaled_train, scaled_test\n",
    "\n",
    "# function to scale whole data\n",
    "def std_all_data(x):\n",
    "    sc = StandardScaler()\n",
    "    scaled = sc.fit_transform(x)\n",
    "    return scaled\n",
    "    \n",
    "# function for applying random search cv\n",
    "def random_search_cv(x,y,model,params):\n",
    "    RS = RandomizedSearchCV(model, params, cv = 5, scoring = 'roc_auc', random_state = 0)\n",
    "    RS.fit(x,y)\n",
    "    return RS.best_params_, RS.best_estimator_, RS.best_score_\n",
    "\n",
    "# function for applying grid search cv\n",
    "def grid_search_cv(x,y,model,params):\n",
    "    GS = GridSearchCV(model, params, cv = 5, scoring = 'roc_auc')\n",
    "    GS.fit(x,y)\n",
    "    return GS.best_params_\n",
    "\n",
    "# creating an empty dataframe with headers\n",
    "headers=['AUC Train','AUC Test','Acc Train','Acc Test']\n",
    "dfObj = pd.DataFrame(columns = headers)\n",
    "\n",
    "\n",
    "# function to get roc_auc_scores for train and test  \n",
    "def fit_predict_plot(xtrain,xtest,ytrain,ytest,models):\n",
    "    \n",
    "    for name, model in models:\n",
    "        \n",
    "        model.fit(xtrain,ytrain)\n",
    "        \n",
    "        y_pred_train = model.predict(xtrain)\n",
    "        y_pred_test = model.predict(xtest)\n",
    "        \n",
    "        probas_train = model.predict_proba(xtrain)[:,1]\n",
    "        probas_test = model.predict_proba(xtest)[:,1]\n",
    "\n",
    "        model_name = name \n",
    "        \n",
    "        plot_roc_auc_curve(probas_train,probas_test,ytrain,ytest,name)\n",
    "        \n",
    "        return get_metrics(ytrain,ytest,y_pred_train,y_pred_test,probas_train,probas_test,model_name)\n",
    "    \n",
    "    \n",
    "# function to plot the roc auc curve\n",
    "def plot_roc_auc_curve(probas_train,probas_test,y_train,y_test,name):\n",
    "    \n",
    "        fpr_train, tpr_train, thresholds_train = roc_curve(y_train,probas_train)\n",
    "\n",
    "        fpr_test, tpr_test, thresholds_test = roc_curve(y_test,probas_test)\n",
    "\n",
    "        \n",
    "        plt.plot([0, 1], [0, 1], linestyle='--', lw=2, color='r', label='Chance', alpha=.8)\n",
    "        plt.plot(fpr_train, tpr_train, color='b', \n",
    "                 label=r'Train ROC (AUC = %0.2f )' % (roc_auc_score(y_train,probas_train)),lw=2, alpha=.5)\n",
    "        plt.plot(fpr_test, tpr_test, color='g', \n",
    "                 label=r'Test ROC (AUC = %0.2f )' % (roc_auc_score(y_test,probas_test)),lw=2, alpha=.8)\n",
    "\n",
    "        plt.xlim([-0.01, 1.01])\n",
    "        plt.ylim([-0.01, 1.01])\n",
    "        plt.xlabel('False Positive Rate',fontsize=10)\n",
    "        plt.ylabel('True Positive Rate',fontsize=10)\n",
    "        plt.title('ROC of %s' % (name),fontsize=10)\n",
    "        plt.legend(loc=\"lower right\", prop={'size': 9})\n",
    "        plt.show()\n",
    "\n",
    "        \n",
    "\n",
    "    \n",
    "# function to get all other metrics\n",
    "def get_metrics(y_train,y_test,y_pred_train,y_pred_test,probas_train,probas_test,name):\n",
    "        global dfObj\n",
    "        print('Confusion Matrix:\\n')\n",
    "        print('For Train Data:\\n')\n",
    "        print(confusion_matrix(y_train,y_pred_train))\n",
    "        #print('Classification Report:\\n',classification_report(y_train,y_pred_train))\n",
    "        \n",
    "        print('\\n For Test Data:\\n')\n",
    "        print(confusion_matrix(y_test,y_pred_test))\n",
    "        #print('Classification Report:\\n',classification_report(y_test,y_pred_test))\n",
    "\n",
    "        dfObj.loc[name] = [roc_auc_score(y_train,probas_train), roc_auc_score(y_test,probas_test),\n",
    "                           accuracy_score(y_train, y_pred_train), accuracy_score(y_test, y_pred_test),\n",
    "                        ]\n",
    "        return dfObj\n",
    "        \n",
    "\n",
    "# function for applying various models\n",
    "def implement_cv(x,y,models):\n",
    "    final = {}\n",
    "    results = []\n",
    "    names = []\n",
    "    auc = []\n",
    "    for name,model in models:\n",
    "        kfold = model_selection.KFold(shuffle=True,n_splits=5,random_state=0)\n",
    "        cv_results = model_selection.cross_val_score(model,x,y,cv=kfold, scoring='roc_auc')\n",
    "        results.append((np.abs(cv_results)))\n",
    "        auc.append(np.mean(results))\n",
    "        names.append(name)\n",
    "        \n",
    "        print('Test Scores for {}:\\n'.format(name),cv_results)\n",
    "        final.update({'Model': names , 'roc_auc_score': auc})\n",
    "    return pd.DataFrame(final)\n",
    "\n"
   ]
  },
  {
   "cell_type": "code",
   "execution_count": 8,
   "metadata": {},
   "outputs": [],
   "source": [
    "X =  df.drop('target', axis = 1)\n",
    "Y = df['target']"
   ]
  },
  {
   "cell_type": "code",
   "execution_count": 9,
   "metadata": {},
   "outputs": [],
   "source": [
    "LOGR = LogisticRegression(random_state = 0)\n",
    "DT = DecisionTreeClassifier(random_state = 0)\n",
    "RF = RandomForestClassifier(random_state = 0)\n",
    "GB = GradientBoostingClassifier(random_state = 0)\n",
    "XGB = XGBClassifier(random_state = 0)"
   ]
  },
  {
   "cell_type": "code",
   "execution_count": 10,
   "metadata": {},
   "outputs": [
    {
     "data": {
      "image/png": "[encoded data removed]",
      "text/plain": [
       "<Figure size 432x288 with 1 Axes>"
      ]
     },
     "metadata": {
      "needs_background": "light"
     },
     "output_type": "display_data"
    },
    {
     "name": "stdout",
     "output_type": "stream",
     "text": [
      "Confusion Matrix:\n",
      "\n",
      "For Train Data:\n",
      "\n",
      "[[11184     0]\n",
      " [ 1667     0]]\n",
      "\n",
      " For Test Data:\n",
      "\n",
      "[[4750    0]\n",
      " [ 758    0]]\n"
     ]
    },
    {
     "data": {
      "text/html": [
       "<div>\n",
       "<style scoped>\n",
       "    .dataframe tbody tr th:only-of-type {\n",
       "        vertical-align: middle;\n",
       "    }\n",
       "\n",
       "    .dataframe tbody tr th {\n",
       "        vertical-align: top;\n",
       "    }\n",
       "\n",
       "    .dataframe thead th {\n",
       "        text-align: right;\n",
       "    }\n",
       "</style>\n",
       "<table border=\"1\" class=\"dataframe\">\n",
       "  <thead>\n",
       "    <tr style=\"text-align: right;\">\n",
       "      <th></th>\n",
       "      <th>AUC Train</th>\n",
       "      <th>AUC Test</th>\n",
       "      <th>Acc Train</th>\n",
       "      <th>Acc Test</th>\n",
       "    </tr>\n",
       "  </thead>\n",
       "  <tbody>\n",
       "    <tr>\n",
       "      <td>LOGR</td>\n",
       "      <td>0.633728</td>\n",
       "      <td>0.641715</td>\n",
       "      <td>0.870282</td>\n",
       "      <td>0.862382</td>\n",
       "    </tr>\n",
       "  </tbody>\n",
       "</table>\n",
       "</div>"
      ],
      "text/plain": [
       "      AUC Train  AUC Test  Acc Train  Acc Test\n",
       "LOGR   0.633728  0.641715   0.870282  0.862382"
      ]
     },
     "execution_count": 10,
     "metadata": {},
     "output_type": "execute_result"
    }
   ],
   "source": [
    "X_train,X_test,y_train,y_test = perform_train_test_split(X,Y,0.3)\n",
    "\n",
    "models = [('LOGR',LOGR)]\n",
    "fit_predict_plot(X_train,X_test,y_train,y_test,models)"
   ]
  },
  {
   "cell_type": "markdown",
   "metadata": {},
   "source": [
    "### Now, as there is class imbalance in the data, this has to be treated using SMOTE Analysis"
   ]
  },
  {
   "cell_type": "code",
   "execution_count": null,
   "metadata": {},
   "outputs": [],
   "source": []
  },
  {
   "cell_type": "markdown",
   "metadata": {},
   "source": [
    "## Oversampling using SMOTE"
   ]
  },
  {
   "cell_type": "code",
   "execution_count": 11,
   "metadata": {},
   "outputs": [],
   "source": [
    "import imblearn"
   ]
  },
  {
   "cell_type": "code",
   "execution_count": 12,
   "metadata": {},
   "outputs": [
    {
     "data": {
      "text/plain": [
       "0    15934\n",
       "1    12747\n",
       "Name: target, dtype: int64"
      ]
     },
     "execution_count": 12,
     "metadata": {},
     "output_type": "execute_result"
    }
   ],
   "source": [
    "# transform the dataset\n",
    "oversample = imblearn.over_sampling.SMOTE(sampling_strategy=0.8)\n",
    "X_smote, y= oversample.fit_resample(X, Y)\n",
    "\n",
    "y.value_counts()"
   ]
  },
  {
   "cell_type": "markdown",
   "metadata": {},
   "source": [
    "#### After oversampling, we have enough data for the minority class. Now, we can build models upon this new dataset"
   ]
  },
  {
   "cell_type": "markdown",
   "metadata": {},
   "source": [
    "### Models after SMOTE"
   ]
  },
  {
   "cell_type": "code",
   "execution_count": 13,
   "metadata": {},
   "outputs": [],
   "source": [
    "X = X_smote\n",
    "Y = y"
   ]
  },
  {
   "cell_type": "code",
   "execution_count": 14,
   "metadata": {},
   "outputs": [],
   "source": [
    "X_train,X_test,y_train,y_test = perform_train_test_split(X,Y,0.3)"
   ]
  },
  {
   "cell_type": "code",
   "execution_count": 15,
   "metadata": {},
   "outputs": [
    {
     "data": {
      "image/png": "[encoded data removed]",
      "text/plain": [
       "<Figure size 432x288 with 1 Axes>"
      ]
     },
     "metadata": {
      "needs_background": "light"
     },
     "output_type": "display_data"
    },
    {
     "name": "stdout",
     "output_type": "stream",
     "text": [
      "Confusion Matrix:\n",
      "\n",
      "For Train Data:\n",
      "\n",
      "[[8681 2473]\n",
      " [5192 3730]]\n",
      "\n",
      " For Test Data:\n",
      "\n",
      "[[3702 1078]\n",
      " [2216 1609]]\n"
     ]
    },
    {
     "data": {
      "text/html": [
       "<div>\n",
       "<style scoped>\n",
       "    .dataframe tbody tr th:only-of-type {\n",
       "        vertical-align: middle;\n",
       "    }\n",
       "\n",
       "    .dataframe tbody tr th {\n",
       "        vertical-align: top;\n",
       "    }\n",
       "\n",
       "    .dataframe thead th {\n",
       "        text-align: right;\n",
       "    }\n",
       "</style>\n",
       "<table border=\"1\" class=\"dataframe\">\n",
       "  <thead>\n",
       "    <tr style=\"text-align: right;\">\n",
       "      <th></th>\n",
       "      <th>AUC Train</th>\n",
       "      <th>AUC Test</th>\n",
       "      <th>Acc Train</th>\n",
       "      <th>Acc Test</th>\n",
       "    </tr>\n",
       "  </thead>\n",
       "  <tbody>\n",
       "    <tr>\n",
       "      <td>LOGR</td>\n",
       "      <td>0.646833</td>\n",
       "      <td>0.645051</td>\n",
       "      <td>0.618201</td>\n",
       "      <td>0.617199</td>\n",
       "    </tr>\n",
       "  </tbody>\n",
       "</table>\n",
       "</div>"
      ],
      "text/plain": [
       "      AUC Train  AUC Test  Acc Train  Acc Test\n",
       "LOGR   0.646833  0.645051   0.618201  0.617199"
      ]
     },
     "execution_count": 15,
     "metadata": {},
     "output_type": "execute_result"
    }
   ],
   "source": [
    "models = [('LOGR',LOGR)]\n",
    "fit_predict_plot(X_train,X_test,y_train,y_test,models)"
   ]
  },
  {
   "cell_type": "code",
   "execution_count": 16,
   "metadata": {},
   "outputs": [
    {
     "data": {
      "image/png": "[encoded data removed]",
      "text/plain": [
       "<Figure size 432x288 with 1 Axes>"
      ]
     },
     "metadata": {
      "needs_background": "light"
     },
     "output_type": "display_data"
    },
    {
     "name": "stdout",
     "output_type": "stream",
     "text": [
      "Confusion Matrix:\n",
      "\n",
      "For Train Data:\n",
      "\n",
      "[[10114  1040]\n",
      " [ 2218  6704]]\n",
      "\n",
      " For Test Data:\n",
      "\n",
      "[[4003  777]\n",
      " [1334 2491]]\n"
     ]
    },
    {
     "data": {
      "text/html": [
       "<div>\n",
       "<style scoped>\n",
       "    .dataframe tbody tr th:only-of-type {\n",
       "        vertical-align: middle;\n",
       "    }\n",
       "\n",
       "    .dataframe tbody tr th {\n",
       "        vertical-align: top;\n",
       "    }\n",
       "\n",
       "    .dataframe thead th {\n",
       "        text-align: right;\n",
       "    }\n",
       "</style>\n",
       "<table border=\"1\" class=\"dataframe\">\n",
       "  <thead>\n",
       "    <tr style=\"text-align: right;\">\n",
       "      <th></th>\n",
       "      <th>AUC Train</th>\n",
       "      <th>AUC Test</th>\n",
       "      <th>Acc Train</th>\n",
       "      <th>Acc Test</th>\n",
       "    </tr>\n",
       "  </thead>\n",
       "  <tbody>\n",
       "    <tr>\n",
       "      <td>LOGR</td>\n",
       "      <td>0.646833</td>\n",
       "      <td>0.645051</td>\n",
       "      <td>0.618201</td>\n",
       "      <td>0.617199</td>\n",
       "    </tr>\n",
       "    <tr>\n",
       "      <td>DT</td>\n",
       "      <td>0.934039</td>\n",
       "      <td>0.804982</td>\n",
       "      <td>0.837717</td>\n",
       "      <td>0.754678</td>\n",
       "    </tr>\n",
       "  </tbody>\n",
       "</table>\n",
       "</div>"
      ],
      "text/plain": [
       "      AUC Train  AUC Test  Acc Train  Acc Test\n",
       "LOGR   0.646833  0.645051   0.618201  0.617199\n",
       "DT     0.934039  0.804982   0.837717  0.754678"
      ]
     },
     "execution_count": 16,
     "metadata": {},
     "output_type": "execute_result"
    }
   ],
   "source": [
    "models = [('DT',DT)]\n",
    "fit_predict_plot(X_train,X_test,y_train,y_test,models)"
   ]
  },
  {
   "cell_type": "code",
   "execution_count": 17,
   "metadata": {},
   "outputs": [
    {
     "data": {
      "image/png": "[encoded data removed]",
      "text/plain": [
       "<Figure size 432x288 with 1 Axes>"
      ]
     },
     "metadata": {
      "needs_background": "light"
     },
     "output_type": "display_data"
    },
    {
     "name": "stdout",
     "output_type": "stream",
     "text": [
      "Confusion Matrix:\n",
      "\n",
      "For Train Data:\n",
      "\n",
      "[[9990 1164]\n",
      " [2094 6828]]\n",
      "\n",
      " For Test Data:\n",
      "\n",
      "[[3870  910]\n",
      " [1488 2337]]\n"
     ]
    },
    {
     "data": {
      "text/html": [
       "<div>\n",
       "<style scoped>\n",
       "    .dataframe tbody tr th:only-of-type {\n",
       "        vertical-align: middle;\n",
       "    }\n",
       "\n",
       "    .dataframe tbody tr th {\n",
       "        vertical-align: top;\n",
       "    }\n",
       "\n",
       "    .dataframe thead th {\n",
       "        text-align: right;\n",
       "    }\n",
       "</style>\n",
       "<table border=\"1\" class=\"dataframe\">\n",
       "  <thead>\n",
       "    <tr style=\"text-align: right;\">\n",
       "      <th></th>\n",
       "      <th>AUC Train</th>\n",
       "      <th>AUC Test</th>\n",
       "      <th>Acc Train</th>\n",
       "      <th>Acc Test</th>\n",
       "    </tr>\n",
       "  </thead>\n",
       "  <tbody>\n",
       "    <tr>\n",
       "      <td>LOGR</td>\n",
       "      <td>0.646833</td>\n",
       "      <td>0.645051</td>\n",
       "      <td>0.618201</td>\n",
       "      <td>0.617199</td>\n",
       "    </tr>\n",
       "    <tr>\n",
       "      <td>DT</td>\n",
       "      <td>0.934039</td>\n",
       "      <td>0.804982</td>\n",
       "      <td>0.837717</td>\n",
       "      <td>0.754678</td>\n",
       "    </tr>\n",
       "    <tr>\n",
       "      <td>RF</td>\n",
       "      <td>0.926732</td>\n",
       "      <td>0.790312</td>\n",
       "      <td>0.837717</td>\n",
       "      <td>0.721325</td>\n",
       "    </tr>\n",
       "  </tbody>\n",
       "</table>\n",
       "</div>"
      ],
      "text/plain": [
       "      AUC Train  AUC Test  Acc Train  Acc Test\n",
       "LOGR   0.646833  0.645051   0.618201  0.617199\n",
       "DT     0.934039  0.804982   0.837717  0.754678\n",
       "RF     0.926732  0.790312   0.837717  0.721325"
      ]
     },
     "execution_count": 17,
     "metadata": {},
     "output_type": "execute_result"
    }
   ],
   "source": [
    "models = [('RF',RF)]\n",
    "fit_predict_plot(X_train,X_test,y_train,y_test,models)"
   ]
  },
  {
   "cell_type": "code",
   "execution_count": null,
   "metadata": {},
   "outputs": [],
   "source": []
  },
  {
   "cell_type": "code",
   "execution_count": 18,
   "metadata": {},
   "outputs": [
    {
     "data": {
      "image/png": "[encoded data removed]",
      "text/plain": [
       "<Figure size 432x288 with 1 Axes>"
      ]
     },
     "metadata": {
      "needs_background": "light"
     },
     "output_type": "display_data"
    },
    {
     "name": "stdout",
     "output_type": "stream",
     "text": [
      "Confusion Matrix:\n",
      "\n",
      "For Train Data:\n",
      "\n",
      "[[9216 1938]\n",
      " [3877 5045]]\n",
      "\n",
      " For Test Data:\n",
      "\n",
      "[[3920  860]\n",
      " [1665 2160]]\n"
     ]
    },
    {
     "data": {
      "text/html": [
       "<div>\n",
       "<style scoped>\n",
       "    .dataframe tbody tr th:only-of-type {\n",
       "        vertical-align: middle;\n",
       "    }\n",
       "\n",
       "    .dataframe tbody tr th {\n",
       "        vertical-align: top;\n",
       "    }\n",
       "\n",
       "    .dataframe thead th {\n",
       "        text-align: right;\n",
       "    }\n",
       "</style>\n",
       "<table border=\"1\" class=\"dataframe\">\n",
       "  <thead>\n",
       "    <tr style=\"text-align: right;\">\n",
       "      <th></th>\n",
       "      <th>AUC Train</th>\n",
       "      <th>AUC Test</th>\n",
       "      <th>Acc Train</th>\n",
       "      <th>Acc Test</th>\n",
       "    </tr>\n",
       "  </thead>\n",
       "  <tbody>\n",
       "    <tr>\n",
       "      <td>LOGR</td>\n",
       "      <td>0.646833</td>\n",
       "      <td>0.645051</td>\n",
       "      <td>0.618201</td>\n",
       "      <td>0.617199</td>\n",
       "    </tr>\n",
       "    <tr>\n",
       "      <td>DT</td>\n",
       "      <td>0.934039</td>\n",
       "      <td>0.804982</td>\n",
       "      <td>0.837717</td>\n",
       "      <td>0.754678</td>\n",
       "    </tr>\n",
       "    <tr>\n",
       "      <td>RF</td>\n",
       "      <td>0.926732</td>\n",
       "      <td>0.790312</td>\n",
       "      <td>0.837717</td>\n",
       "      <td>0.721325</td>\n",
       "    </tr>\n",
       "    <tr>\n",
       "      <td>GB</td>\n",
       "      <td>0.772302</td>\n",
       "      <td>0.768158</td>\n",
       "      <td>0.710351</td>\n",
       "      <td>0.706566</td>\n",
       "    </tr>\n",
       "  </tbody>\n",
       "</table>\n",
       "</div>"
      ],
      "text/plain": [
       "      AUC Train  AUC Test  Acc Train  Acc Test\n",
       "LOGR   0.646833  0.645051   0.618201  0.617199\n",
       "DT     0.934039  0.804982   0.837717  0.754678\n",
       "RF     0.926732  0.790312   0.837717  0.721325\n",
       "GB     0.772302  0.768158   0.710351  0.706566"
      ]
     },
     "execution_count": 18,
     "metadata": {},
     "output_type": "execute_result"
    }
   ],
   "source": [
    "models = [('GB',GB)]\n",
    "fit_predict_plot(X_train,X_test,y_train,y_test,models)"
   ]
  },
  {
   "cell_type": "code",
   "execution_count": 19,
   "metadata": {},
   "outputs": [
    {
     "data": {
      "image/png": "[encoded data removed]",
      "text/plain": [
       "<Figure size 432x288 with 1 Axes>"
      ]
     },
     "metadata": {
      "needs_background": "light"
     },
     "output_type": "display_data"
    },
    {
     "name": "stdout",
     "output_type": "stream",
     "text": [
      "Confusion Matrix:\n",
      "\n",
      "For Train Data:\n",
      "\n",
      "[[9950 1204]\n",
      " [2770 6152]]\n",
      "\n",
      " For Test Data:\n",
      "\n",
      "[[4180  600]\n",
      " [1249 2576]]\n"
     ]
    },
    {
     "data": {
      "text/html": [
       "<div>\n",
       "<style scoped>\n",
       "    .dataframe tbody tr th:only-of-type {\n",
       "        vertical-align: middle;\n",
       "    }\n",
       "\n",
       "    .dataframe tbody tr th {\n",
       "        vertical-align: top;\n",
       "    }\n",
       "\n",
       "    .dataframe thead th {\n",
       "        text-align: right;\n",
       "    }\n",
       "</style>\n",
       "<table border=\"1\" class=\"dataframe\">\n",
       "  <thead>\n",
       "    <tr style=\"text-align: right;\">\n",
       "      <th></th>\n",
       "      <th>AUC Train</th>\n",
       "      <th>AUC Test</th>\n",
       "      <th>Acc Train</th>\n",
       "      <th>Acc Test</th>\n",
       "    </tr>\n",
       "  </thead>\n",
       "  <tbody>\n",
       "    <tr>\n",
       "      <td>LOGR</td>\n",
       "      <td>0.646833</td>\n",
       "      <td>0.645051</td>\n",
       "      <td>0.618201</td>\n",
       "      <td>0.617199</td>\n",
       "    </tr>\n",
       "    <tr>\n",
       "      <td>DT</td>\n",
       "      <td>0.934039</td>\n",
       "      <td>0.804982</td>\n",
       "      <td>0.837717</td>\n",
       "      <td>0.754678</td>\n",
       "    </tr>\n",
       "    <tr>\n",
       "      <td>RF</td>\n",
       "      <td>0.926732</td>\n",
       "      <td>0.790312</td>\n",
       "      <td>0.837717</td>\n",
       "      <td>0.721325</td>\n",
       "    </tr>\n",
       "    <tr>\n",
       "      <td>GB</td>\n",
       "      <td>0.772302</td>\n",
       "      <td>0.768158</td>\n",
       "      <td>0.710351</td>\n",
       "      <td>0.706566</td>\n",
       "    </tr>\n",
       "    <tr>\n",
       "      <td>XGB</td>\n",
       "      <td>0.886669</td>\n",
       "      <td>0.859022</td>\n",
       "      <td>0.802052</td>\n",
       "      <td>0.785125</td>\n",
       "    </tr>\n",
       "  </tbody>\n",
       "</table>\n",
       "</div>"
      ],
      "text/plain": [
       "      AUC Train  AUC Test  Acc Train  Acc Test\n",
       "LOGR   0.646833  0.645051   0.618201  0.617199\n",
       "DT     0.934039  0.804982   0.837717  0.754678\n",
       "RF     0.926732  0.790312   0.837717  0.721325\n",
       "GB     0.772302  0.768158   0.710351  0.706566\n",
       "XGB    0.886669  0.859022   0.802052  0.785125"
      ]
     },
     "execution_count": 19,
     "metadata": {},
     "output_type": "execute_result"
    }
   ],
   "source": [
    "models = [('XGB',XGB)]\n",
    "fit_predict_plot(X_train,X_test,y_train,y_test,models)"
   ]
  },
  {
   "cell_type": "markdown",
   "metadata": {},
   "source": [
    "#### Here, the models were built using train test split considering evaluation metric as ROC AUC score.\n",
    "\n",
    "#### From all the models built, the XGBoost models perfroms better on the test data with ROC AUC Score of 85% and does not overfit or underfit.\n",
    "\n",
    "#### The performance of models could be improved by hyperparameter tuning."
   ]
  },
  {
   "cell_type": "code",
   "execution_count": null,
   "metadata": {},
   "outputs": [],
   "source": []
  },
  {
   "cell_type": "markdown",
   "metadata": {},
   "source": [
    "## Evaluating the XGB Model using 5-fold cross validation"
   ]
  },
  {
   "cell_type": "code",
   "execution_count": 20,
   "metadata": {},
   "outputs": [],
   "source": [
    "def evaluate_model(x,y,models):\n",
    "    \n",
    "    for name,model in models:\n",
    "        kfold = model_selection.KFold(shuffle=True,n_splits=5,random_state=0)\n",
    "        cv_results = model_selection.cross_validate(model,x,y,cv=kfold, scoring='roc_auc',return_train_score = True)\n",
    "        train_cv_score = [i for i in cv_results['train_score']]\n",
    "        test_cv_score = [i for i in cv_results['test_score']]\n",
    "        print('For {} model:\\n'.format(name))\n",
    "        print('Train Scores: ',train_cv_score)\n",
    "        print('Test Scores: ',test_cv_score)\n",
    "        print('Mean Train Scores: ', np.mean(train_cv_score))\n",
    "        print('Mean Test Scores: ', np.mean(test_cv_score))\n",
    "        \n",
    "        #plt.figure(figsize = (5,5))\n",
    "        #plt.ylim([0,100])\n",
    "        #plt.plot(np.arange(1,6,1),train_cv_score, label=r'Train Mean %0.2f )' % (np.mean(train_cv_score)),lw=2, alpha=.5)\n",
    "        #plt.plot(np.arange(1,6,1),test_cv_score, label=r'Test Mean %0.2f )' % (np.mean(test_cv_score)),lw=2, alpha=.5)\n",
    "        #plt.legend(loc=\"best\", prop={'size': 9})\n",
    "        #plt.show()"
   ]
  },
  {
   "cell_type": "code",
   "execution_count": 21,
   "metadata": {},
   "outputs": [
    {
     "name": "stdout",
     "output_type": "stream",
     "text": [
      "For XGB model:\n",
      "\n",
      "Train Scores:  [0.8876041245710422, 0.8877299134381746, 0.8884631287168393, 0.8878568808801651, 0.8866316487463362]\n",
      "Test Scores:  [0.8623589928085841, 0.8625470773342183, 0.8558564468515748, 0.8491028466125625, 0.859789664998188]\n",
      "Mean Train Scores:  0.8876571392705115\n",
      "Mean Test Scores:  0.8579310057210255\n"
     ]
    }
   ],
   "source": [
    "models = [('XGB',XGB)]\n",
    "evaluate_model(X,Y,models)"
   ]
  },
  {
   "cell_type": "code",
   "execution_count": null,
   "metadata": {},
   "outputs": [],
   "source": []
  },
  {
   "cell_type": "markdown",
   "metadata": {},
   "source": [
    "## Predicting the class using test set"
   ]
  },
  {
   "cell_type": "code",
   "execution_count": 23,
   "metadata": {},
   "outputs": [],
   "source": [
    "test_data = pd.read_csv('final_test.csv')"
   ]
  },
  {
   "cell_type": "code",
   "execution_count": 24,
   "metadata": {},
   "outputs": [],
   "source": [
    "y_pred = XGB.predict(test_data)"
   ]
  },
  {
   "cell_type": "code",
   "execution_count": 25,
   "metadata": {},
   "outputs": [
    {
     "name": "stdout",
     "output_type": "stream",
     "text": [
      "[1 0 1 ... 0 0 1]\n"
     ]
    }
   ],
   "source": [
    "print(y_pred)"
   ]
  },
  {
   "cell_type": "code",
   "execution_count": null,
   "metadata": {},
   "outputs": [],
   "source": []
  }
 ],
 "metadata": {
  "kernelspec": {
   "display_name": "Python 3",
   "language": "python",
   "name": "python3"
  },
  "language_info": {
   "codemirror_mode": {
    "name": "ipython",
    "version": 3
   },
   "file_extension": ".py",
   "mimetype": "text/x-python",
   "name": "python",
   "nbconvert_exporter": "python",
   "pygments_lexer": "ipython3",
   "version": "3.7.4"
  }
 },
 "nbformat": 4,
 "nbformat_minor": 2
}
